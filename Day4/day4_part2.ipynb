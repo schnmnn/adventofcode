{
 "cells": [
  {
   "cell_type": "code",
   "execution_count": 56,
   "metadata": {},
   "outputs": [],
   "source": [
    "import pandas as pd"
   ]
  },
  {
   "cell_type": "code",
   "execution_count": 57,
   "metadata": {},
   "outputs": [],
   "source": [
    "input = pd.read_csv('day4_input.txt',header=None)\n",
    "input = input.set_axis(['elf1','elf2'],axis='columns')"
   ]
  },
  {
   "cell_type": "code",
   "execution_count": 58,
   "metadata": {},
   "outputs": [],
   "source": [
    "input[['elf1_start','elf1_end']]= input.elf1.str.split('-',expand=True).astype(int)\n",
    "input[['elf2_start','elf2_end']]= input.elf2.str.split('-',expand=True).astype(int)"
   ]
  },
  {
   "cell_type": "code",
   "execution_count": 98,
   "metadata": {},
   "outputs": [],
   "source": [
    "input['twooverlapone'] = input.apply(\n",
    "    lambda row: 'yes' if (row.elf2_start <= row.elf1_end and row.elf2_end >= row.elf1_start)\n",
    "                else 'no',\n",
    "    axis=1    \n",
    ")"
   ]
  },
  {
   "cell_type": "code",
   "execution_count": 96,
   "metadata": {},
   "outputs": [],
   "source": [
    "input['oneoverlaptwo'] = input.apply(\n",
    "    lambda row: 'yes' if (row.elf1_start >= row.elf2_end)\n",
    "                else 'no',\n",
    "    axis=1    \n",
    ")"
   ]
  },
  {
   "cell_type": "code",
   "execution_count": 99,
   "metadata": {},
   "outputs": [
    {
     "data": {
      "text/html": [
       "<div>\n",
       "<style scoped>\n",
       "    .dataframe tbody tr th:only-of-type {\n",
       "        vertical-align: middle;\n",
       "    }\n",
       "\n",
       "    .dataframe tbody tr th {\n",
       "        vertical-align: top;\n",
       "    }\n",
       "\n",
       "    .dataframe thead th {\n",
       "        text-align: right;\n",
       "    }\n",
       "</style>\n",
       "<table border=\"1\" class=\"dataframe\">\n",
       "  <thead>\n",
       "    <tr style=\"text-align: right;\">\n",
       "      <th></th>\n",
       "      <th>elf1</th>\n",
       "      <th>elf2</th>\n",
       "      <th>elf1_start</th>\n",
       "      <th>elf1_end</th>\n",
       "      <th>elf2_start</th>\n",
       "      <th>elf2_end</th>\n",
       "      <th>twooverlapone</th>\n",
       "      <th>oneoverlaptwo</th>\n",
       "      <th>combine</th>\n",
       "    </tr>\n",
       "  </thead>\n",
       "  <tbody>\n",
       "    <tr>\n",
       "      <th>0</th>\n",
       "      <td>28-47</td>\n",
       "      <td>45-47</td>\n",
       "      <td>28</td>\n",
       "      <td>47</td>\n",
       "      <td>45</td>\n",
       "      <td>47</td>\n",
       "      <td>yes</td>\n",
       "      <td>no</td>\n",
       "      <td>1</td>\n",
       "    </tr>\n",
       "    <tr>\n",
       "      <th>1</th>\n",
       "      <td>32-97</td>\n",
       "      <td>98-98</td>\n",
       "      <td>32</td>\n",
       "      <td>97</td>\n",
       "      <td>98</td>\n",
       "      <td>98</td>\n",
       "      <td>no</td>\n",
       "      <td>no</td>\n",
       "      <td>0</td>\n",
       "    </tr>\n",
       "    <tr>\n",
       "      <th>2</th>\n",
       "      <td>59-92</td>\n",
       "      <td>91-93</td>\n",
       "      <td>59</td>\n",
       "      <td>92</td>\n",
       "      <td>91</td>\n",
       "      <td>93</td>\n",
       "      <td>yes</td>\n",
       "      <td>no</td>\n",
       "      <td>0</td>\n",
       "    </tr>\n",
       "    <tr>\n",
       "      <th>3</th>\n",
       "      <td>8-74</td>\n",
       "      <td>9-74</td>\n",
       "      <td>8</td>\n",
       "      <td>74</td>\n",
       "      <td>9</td>\n",
       "      <td>74</td>\n",
       "      <td>yes</td>\n",
       "      <td>no</td>\n",
       "      <td>1</td>\n",
       "    </tr>\n",
       "    <tr>\n",
       "      <th>4</th>\n",
       "      <td>58-98</td>\n",
       "      <td>23-57</td>\n",
       "      <td>58</td>\n",
       "      <td>98</td>\n",
       "      <td>23</td>\n",
       "      <td>57</td>\n",
       "      <td>no</td>\n",
       "      <td>yes</td>\n",
       "      <td>0</td>\n",
       "    </tr>\n",
       "    <tr>\n",
       "      <th>...</th>\n",
       "      <td>...</td>\n",
       "      <td>...</td>\n",
       "      <td>...</td>\n",
       "      <td>...</td>\n",
       "      <td>...</td>\n",
       "      <td>...</td>\n",
       "      <td>...</td>\n",
       "      <td>...</td>\n",
       "      <td>...</td>\n",
       "    </tr>\n",
       "    <tr>\n",
       "      <th>995</th>\n",
       "      <td>89-97</td>\n",
       "      <td>96-97</td>\n",
       "      <td>89</td>\n",
       "      <td>97</td>\n",
       "      <td>96</td>\n",
       "      <td>97</td>\n",
       "      <td>yes</td>\n",
       "      <td>no</td>\n",
       "      <td>1</td>\n",
       "    </tr>\n",
       "    <tr>\n",
       "      <th>996</th>\n",
       "      <td>43-50</td>\n",
       "      <td>42-50</td>\n",
       "      <td>43</td>\n",
       "      <td>50</td>\n",
       "      <td>42</td>\n",
       "      <td>50</td>\n",
       "      <td>yes</td>\n",
       "      <td>no</td>\n",
       "      <td>1</td>\n",
       "    </tr>\n",
       "    <tr>\n",
       "      <th>997</th>\n",
       "      <td>59-78</td>\n",
       "      <td>60-87</td>\n",
       "      <td>59</td>\n",
       "      <td>78</td>\n",
       "      <td>60</td>\n",
       "      <td>87</td>\n",
       "      <td>yes</td>\n",
       "      <td>no</td>\n",
       "      <td>0</td>\n",
       "    </tr>\n",
       "    <tr>\n",
       "      <th>998</th>\n",
       "      <td>7-76</td>\n",
       "      <td>6-6</td>\n",
       "      <td>7</td>\n",
       "      <td>76</td>\n",
       "      <td>6</td>\n",
       "      <td>6</td>\n",
       "      <td>no</td>\n",
       "      <td>yes</td>\n",
       "      <td>0</td>\n",
       "    </tr>\n",
       "    <tr>\n",
       "      <th>999</th>\n",
       "      <td>20-35</td>\n",
       "      <td>22-34</td>\n",
       "      <td>20</td>\n",
       "      <td>35</td>\n",
       "      <td>22</td>\n",
       "      <td>34</td>\n",
       "      <td>yes</td>\n",
       "      <td>no</td>\n",
       "      <td>1</td>\n",
       "    </tr>\n",
       "  </tbody>\n",
       "</table>\n",
       "<p>1000 rows × 9 columns</p>\n",
       "</div>"
      ],
      "text/plain": [
       "      elf1   elf2  elf1_start  elf1_end  elf2_start  elf2_end twooverlapone  \\\n",
       "0    28-47  45-47          28        47          45        47           yes   \n",
       "1    32-97  98-98          32        97          98        98            no   \n",
       "2    59-92  91-93          59        92          91        93           yes   \n",
       "3     8-74   9-74           8        74           9        74           yes   \n",
       "4    58-98  23-57          58        98          23        57            no   \n",
       "..     ...    ...         ...       ...         ...       ...           ...   \n",
       "995  89-97  96-97          89        97          96        97           yes   \n",
       "996  43-50  42-50          43        50          42        50           yes   \n",
       "997  59-78  60-87          59        78          60        87           yes   \n",
       "998   7-76    6-6           7        76           6         6            no   \n",
       "999  20-35  22-34          20        35          22        34           yes   \n",
       "\n",
       "    oneoverlaptwo  combine  \n",
       "0              no        1  \n",
       "1              no        0  \n",
       "2              no        0  \n",
       "3              no        1  \n",
       "4             yes        0  \n",
       "..            ...      ...  \n",
       "995            no        1  \n",
       "996            no        1  \n",
       "997            no        0  \n",
       "998           yes        0  \n",
       "999            no        1  \n",
       "\n",
       "[1000 rows x 9 columns]"
      ]
     },
     "execution_count": 99,
     "metadata": {},
     "output_type": "execute_result"
    }
   ],
   "source": [
    "input"
   ]
  },
  {
   "cell_type": "code",
   "execution_count": 100,
   "metadata": {},
   "outputs": [],
   "source": [
    "input['combine'] = input.apply(\n",
    "    lambda row: 1 if ( row.twooverlapone == 'yes')\n",
    "                else 0,\n",
    "    axis=1    \n",
    ")"
   ]
  },
  {
   "cell_type": "code",
   "execution_count": 101,
   "metadata": {},
   "outputs": [
    {
     "data": {
      "text/plain": [
       "798"
      ]
     },
     "execution_count": 101,
     "metadata": {},
     "output_type": "execute_result"
    }
   ],
   "source": [
    "input['combine'].sum()"
   ]
  }
 ],
 "metadata": {
  "kernelspec": {
   "display_name": "Python 3",
   "language": "python",
   "name": "python3"
  },
  "language_info": {
   "codemirror_mode": {
    "name": "ipython",
    "version": 3
   },
   "file_extension": ".py",
   "mimetype": "text/x-python",
   "name": "python",
   "nbconvert_exporter": "python",
   "pygments_lexer": "ipython3",
   "version": "3.10.7 (tags/v3.10.7:6cc6b13, Sep  5 2022, 14:08:36) [MSC v.1933 64 bit (AMD64)]"
  },
  "orig_nbformat": 4,
  "vscode": {
   "interpreter": {
    "hash": "e51fdbc37c5adaa12a9ed97b50fdaf0ff46be7ee1a114cc405b6eaf0c36d1bf8"
   }
  }
 },
 "nbformat": 4,
 "nbformat_minor": 2
}

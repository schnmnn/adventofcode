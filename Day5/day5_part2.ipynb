{
 "cells": [
  {
   "cell_type": "code",
   "execution_count": 51,
   "metadata": {},
   "outputs": [],
   "source": [
    "import pandas as pd"
   ]
  },
  {
   "cell_type": "code",
   "execution_count": 45,
   "metadata": {},
   "outputs": [],
   "source": [
    "#import for testfile\n",
    "# input = pd.read_fwf('day5_input_test.txt',colspecs=[(0,4),(4,8),(8,12)],names=['stack1','stack2','stack3'])\n",
    "# stacks = input.loc[:2]\n",
    "\n"
   ]
  },
  {
   "cell_type": "code",
   "execution_count": 3,
   "metadata": {},
   "outputs": [],
   "source": [
    "#import for testfile\n",
    "# moves = pd.read_csv('day5_input_test.txt',header=None,names=['moves'])\n",
    "# moves = moves.loc[4:]\n",
    "# moves = moves['moves'].str.split(' ',5,expand=True)\n",
    "# moves = moves.rename(columns={0:'move',1:'count_moves',2:'from',3:'from_stack',4:'to',5:'to_stack'})"
   ]
  },
  {
   "cell_type": "code",
   "execution_count": 52,
   "metadata": {},
   "outputs": [],
   "source": [
    "input = pd.read_fwf('day5_input.txt',colspecs=[(0,4),(4,8),(8,12),(12,16),(16,20),(20,24),(24,28),(28,32),(32,36)],names=['stack1','stack2','stack3','stack4','stack5','stack6','stack7','stack8','stack9'])\n",
    "stacks = input.loc[:7]\n"
   ]
  },
  {
   "cell_type": "code",
   "execution_count": 53,
   "metadata": {},
   "outputs": [],
   "source": [
    "moves = pd.read_csv('day5_input.txt',header=None,names=['moves'])\n",
    "moves = moves.loc[9:]\n",
    "moves = moves['moves'].str.split(' ',5,expand=True)\n",
    "moves = moves.rename(columns={0:'move',1:'count_moves',2:'from',3:'from_stack',4:'to',5:'to_stack'})"
   ]
  },
  {
   "cell_type": "code",
   "execution_count": 54,
   "metadata": {},
   "outputs": [],
   "source": [
    "stacks = stacks.transpose()\n",
    "stack_list = stacks.values.tolist()\n"
   ]
  },
  {
   "cell_type": "code",
   "execution_count": 55,
   "metadata": {},
   "outputs": [],
   "source": [
    "for i in range(len(stack_list)):\n",
    "    stack_list[i] = stack_list[i][::-1]\n",
    "    stack_list[i] = [x for x in stack_list[i] if str(x) != 'nan']"
   ]
  },
  {
   "cell_type": "code",
   "execution_count": 56,
   "metadata": {},
   "outputs": [],
   "source": [
    "# hier werden nun listen verschoben und damit neue listen erstellt\n",
    "\n",
    "for i in moves.values:\n",
    "    to_stack = i[5]\n",
    "    to_stack = int(to_stack)-1\n",
    "    from_stack = i[3]\n",
    "    from_stack = int(from_stack)-1\n",
    "    count_crates = int((i[1]))\n",
    "    stack_list[to_stack].extend(stack_list[from_stack][-count_crates:])\n",
    "    stack_list[from_stack] = stack_list[from_stack][:-count_crates]\n",
    " "
   ]
  },
  {
   "cell_type": "code",
   "execution_count": 57,
   "metadata": {},
   "outputs": [
    {
     "name": "stdout",
     "output_type": "stream",
     "text": [
      "[V]\n",
      "[R]\n",
      "[Z]\n",
      "[G]\n",
      "[H]\n",
      "[D]\n",
      "[F]\n",
      "[B]\n",
      "[Q]\n"
     ]
    }
   ],
   "source": [
    "for i in stack_list:\n",
    "    print(i[-1])"
   ]
  }
 ],
 "metadata": {
  "kernelspec": {
   "display_name": "Python 3",
   "language": "python",
   "name": "python3"
  },
  "language_info": {
   "codemirror_mode": {
    "name": "ipython",
    "version": 3
   },
   "file_extension": ".py",
   "mimetype": "text/x-python",
   "name": "python",
   "nbconvert_exporter": "python",
   "pygments_lexer": "ipython3",
   "version": "3.10.7 (tags/v3.10.7:6cc6b13, Sep  5 2022, 14:08:36) [MSC v.1933 64 bit (AMD64)]"
  },
  "orig_nbformat": 4,
  "vscode": {
   "interpreter": {
    "hash": "e51fdbc37c5adaa12a9ed97b50fdaf0ff46be7ee1a114cc405b6eaf0c36d1bf8"
   }
  }
 },
 "nbformat": 4,
 "nbformat_minor": 2
}

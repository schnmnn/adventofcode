{
 "cells": [
  {
   "cell_type": "code",
   "execution_count": 405,
   "metadata": {},
   "outputs": [],
   "source": [
    "import pandas as pd"
   ]
  },
  {
   "cell_type": "code",
   "execution_count": 406,
   "metadata": {},
   "outputs": [],
   "source": [
    "#import for testfile\n",
    "# input = pd.read_fwf('day5_input.txt',colspecs=[(0,4),(4,8),(8,12)],names=['stack1','stack2','stack3'])\n",
    "#stacks = input.loc[:2]\n",
    "\n"
   ]
  },
  {
   "cell_type": "code",
   "execution_count": 407,
   "metadata": {},
   "outputs": [],
   "source": [
    "#import for testfile\n",
    "# moves = pd.read_csv('day5_input.txt',header=None,names=['moves'])\n",
    "# moves = moves.loc[4:]\n",
    "# moves = moves['moves'].str.split(' ',5,expand=True)\n",
    "# moves = moves.rename(columns={0:'move',1:'count_moves',2:'from',3:'from_stack',4:'to',5:'to_stack'})"
   ]
  },
  {
   "cell_type": "code",
   "execution_count": 408,
   "metadata": {},
   "outputs": [],
   "source": [
    "input = pd.read_fwf('day5_input.txt',colspecs=[(0,4),(4,8),(8,12),(12,16),(16,20),(20,24),(24,28),(28,32),(32,36)],names=['stack1','stack2','stack3','stack4','stack5','stack6','stack7','stack8','stack9'])\n",
    "stacks = input.loc[:7]\n"
   ]
  },
  {
   "cell_type": "code",
   "execution_count": 409,
   "metadata": {},
   "outputs": [],
   "source": [
    "moves = pd.read_csv('day5_input.txt',header=None,names=['moves'])\n",
    "moves = moves.loc[9:]\n",
    "moves = moves['moves'].str.split(' ',5,expand=True)\n",
    "moves = moves.rename(columns={0:'move',1:'count_moves',2:'from',3:'from_stack',4:'to',5:'to_stack'})"
   ]
  },
  {
   "cell_type": "code",
   "execution_count": 410,
   "metadata": {},
   "outputs": [
    {
     "data": {
      "text/html": [
       "<div>\n",
       "<style scoped>\n",
       "    .dataframe tbody tr th:only-of-type {\n",
       "        vertical-align: middle;\n",
       "    }\n",
       "\n",
       "    .dataframe tbody tr th {\n",
       "        vertical-align: top;\n",
       "    }\n",
       "\n",
       "    .dataframe thead th {\n",
       "        text-align: right;\n",
       "    }\n",
       "</style>\n",
       "<table border=\"1\" class=\"dataframe\">\n",
       "  <thead>\n",
       "    <tr style=\"text-align: right;\">\n",
       "      <th></th>\n",
       "      <th>move</th>\n",
       "      <th>count_moves</th>\n",
       "      <th>from</th>\n",
       "      <th>from_stack</th>\n",
       "      <th>to</th>\n",
       "      <th>to_stack</th>\n",
       "    </tr>\n",
       "  </thead>\n",
       "  <tbody>\n",
       "    <tr>\n",
       "      <th>9</th>\n",
       "      <td>move</td>\n",
       "      <td>1</td>\n",
       "      <td>from</td>\n",
       "      <td>3</td>\n",
       "      <td>to</td>\n",
       "      <td>5</td>\n",
       "    </tr>\n",
       "    <tr>\n",
       "      <th>10</th>\n",
       "      <td>move</td>\n",
       "      <td>5</td>\n",
       "      <td>from</td>\n",
       "      <td>5</td>\n",
       "      <td>to</td>\n",
       "      <td>4</td>\n",
       "    </tr>\n",
       "    <tr>\n",
       "      <th>11</th>\n",
       "      <td>move</td>\n",
       "      <td>6</td>\n",
       "      <td>from</td>\n",
       "      <td>7</td>\n",
       "      <td>to</td>\n",
       "      <td>3</td>\n",
       "    </tr>\n",
       "    <tr>\n",
       "      <th>12</th>\n",
       "      <td>move</td>\n",
       "      <td>6</td>\n",
       "      <td>from</td>\n",
       "      <td>1</td>\n",
       "      <td>to</td>\n",
       "      <td>3</td>\n",
       "    </tr>\n",
       "    <tr>\n",
       "      <th>13</th>\n",
       "      <td>move</td>\n",
       "      <td>1</td>\n",
       "      <td>from</td>\n",
       "      <td>1</td>\n",
       "      <td>to</td>\n",
       "      <td>9</td>\n",
       "    </tr>\n",
       "    <tr>\n",
       "      <th>...</th>\n",
       "      <td>...</td>\n",
       "      <td>...</td>\n",
       "      <td>...</td>\n",
       "      <td>...</td>\n",
       "      <td>...</td>\n",
       "      <td>...</td>\n",
       "    </tr>\n",
       "    <tr>\n",
       "      <th>507</th>\n",
       "      <td>move</td>\n",
       "      <td>14</td>\n",
       "      <td>from</td>\n",
       "      <td>1</td>\n",
       "      <td>to</td>\n",
       "      <td>8</td>\n",
       "    </tr>\n",
       "    <tr>\n",
       "      <th>508</th>\n",
       "      <td>move</td>\n",
       "      <td>1</td>\n",
       "      <td>from</td>\n",
       "      <td>6</td>\n",
       "      <td>to</td>\n",
       "      <td>2</td>\n",
       "    </tr>\n",
       "    <tr>\n",
       "      <th>509</th>\n",
       "      <td>move</td>\n",
       "      <td>2</td>\n",
       "      <td>from</td>\n",
       "      <td>7</td>\n",
       "      <td>to</td>\n",
       "      <td>1</td>\n",
       "    </tr>\n",
       "    <tr>\n",
       "      <th>510</th>\n",
       "      <td>move</td>\n",
       "      <td>3</td>\n",
       "      <td>from</td>\n",
       "      <td>8</td>\n",
       "      <td>to</td>\n",
       "      <td>3</td>\n",
       "    </tr>\n",
       "    <tr>\n",
       "      <th>511</th>\n",
       "      <td>move</td>\n",
       "      <td>6</td>\n",
       "      <td>from</td>\n",
       "      <td>8</td>\n",
       "      <td>to</td>\n",
       "      <td>5</td>\n",
       "    </tr>\n",
       "  </tbody>\n",
       "</table>\n",
       "<p>503 rows × 6 columns</p>\n",
       "</div>"
      ],
      "text/plain": [
       "     move count_moves  from from_stack  to to_stack\n",
       "9    move           1  from          3  to        5\n",
       "10   move           5  from          5  to        4\n",
       "11   move           6  from          7  to        3\n",
       "12   move           6  from          1  to        3\n",
       "13   move           1  from          1  to        9\n",
       "..    ...         ...   ...        ...  ..      ...\n",
       "507  move          14  from          1  to        8\n",
       "508  move           1  from          6  to        2\n",
       "509  move           2  from          7  to        1\n",
       "510  move           3  from          8  to        3\n",
       "511  move           6  from          8  to        5\n",
       "\n",
       "[503 rows x 6 columns]"
      ]
     },
     "execution_count": 410,
     "metadata": {},
     "output_type": "execute_result"
    }
   ],
   "source": [
    "moves"
   ]
  },
  {
   "cell_type": "code",
   "execution_count": 411,
   "metadata": {},
   "outputs": [],
   "source": [
    "stacks = stacks.transpose()\n",
    "stack_list = stacks.values.tolist()\n"
   ]
  },
  {
   "cell_type": "code",
   "execution_count": 412,
   "metadata": {},
   "outputs": [],
   "source": [
    "for i in range(len(stack_list)):\n",
    "    stack_list[i] = stack_list[i][::-1]\n",
    "    stack_list[i] = [x for x in stack_list[i] if str(x) != 'nan']"
   ]
  },
  {
   "cell_type": "code",
   "execution_count": 413,
   "metadata": {},
   "outputs": [],
   "source": [
    "for i in moves.values:\n",
    "    for count in range(int(i[1])):\n",
    "        to_stack = i[5]\n",
    "        to_stack = int(to_stack)-1\n",
    "        from_stack = i[3]\n",
    "        from_stack = int(from_stack)-1\n",
    "        stack_list[to_stack].append(stack_list[from_stack][-1])\n",
    "        stack_list[to_stack] = [x for x in stack_list[to_stack] if str(x) != 'nan']\n",
    "        stack_list[from_stack] = stack_list[from_stack][:-1]"
   ]
  },
  {
   "cell_type": "code",
   "execution_count": 417,
   "metadata": {},
   "outputs": [
    {
     "name": "stdout",
     "output_type": "stream",
     "text": [
      "[S]\n",
      "[H]\n",
      "[M]\n",
      "[S]\n",
      "[D]\n",
      "[G]\n",
      "[Z]\n",
      "[V]\n",
      "[C]\n"
     ]
    }
   ],
   "source": [
    "for i in stack_list:\n",
    "    print(i[-1])"
   ]
  }
 ],
 "metadata": {
  "kernelspec": {
   "display_name": "Python 3",
   "language": "python",
   "name": "python3"
  },
  "language_info": {
   "codemirror_mode": {
    "name": "ipython",
    "version": 3
   },
   "file_extension": ".py",
   "mimetype": "text/x-python",
   "name": "python",
   "nbconvert_exporter": "python",
   "pygments_lexer": "ipython3",
   "version": "3.10.7"
  },
  "orig_nbformat": 4,
  "vscode": {
   "interpreter": {
    "hash": "e51fdbc37c5adaa12a9ed97b50fdaf0ff46be7ee1a114cc405b6eaf0c36d1bf8"
   }
  }
 },
 "nbformat": 4,
 "nbformat_minor": 2
}

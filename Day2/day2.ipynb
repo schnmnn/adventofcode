{
 "cells": [
  {
   "cell_type": "markdown",
   "metadata": {},
   "source": [
    "Part 1"
   ]
  },
  {
   "cell_type": "code",
   "execution_count": 44,
   "metadata": {},
   "outputs": [],
   "source": [
    "import pandas as pd"
   ]
  },
  {
   "cell_type": "code",
   "execution_count": 46,
   "metadata": {},
   "outputs": [],
   "source": [
    "values_of_choice = pd.read_csv('values_of_choice.txt')\n",
    "values_of_result = pd.read_csv('values_of_result.txt')\n",
    "all_possible_results = pd.read_csv('all_possible_results.txt')\n",
    "\n",
    "input = pd.read_csv('day2_input.txt',header=None,sep=' ')\n",
    "input_test = pd.read_csv('day2_input_test.txt',header=None,sep=' ')\n",
    "\n"
   ]
  },
  {
   "cell_type": "code",
   "execution_count": 47,
   "metadata": {},
   "outputs": [],
   "source": [
    "input = input.set_axis(['opponent','you'],axis='columns')\n",
    "input_test = input_test.set_axis(['opponent','you'],axis='columns')"
   ]
  },
  {
   "cell_type": "code",
   "execution_count": 48,
   "metadata": {},
   "outputs": [],
   "source": [
    "values_of_choice = values_of_choice[['your_choice_letter','Value_of_letter']]\n",
    "values_of_choice = values_of_choice.rename(columns={'your_choice_letter':'you'})"
   ]
  },
  {
   "cell_type": "code",
   "execution_count": 49,
   "metadata": {},
   "outputs": [],
   "source": [
    "your_values_of_choices = pd.merge(input['you'],values_of_choice, on='you')"
   ]
  },
  {
   "cell_type": "code",
   "execution_count": 50,
   "metadata": {},
   "outputs": [
    {
     "data": {
      "text/plain": [
       "5990"
      ]
     },
     "execution_count": 50,
     "metadata": {},
     "output_type": "execute_result"
    }
   ],
   "source": [
    "sum_value_of_choices = your_values_of_choices['Value_of_letter'].sum()\n",
    "sum_value_of_choices"
   ]
  },
  {
   "cell_type": "code",
   "execution_count": 51,
   "metadata": {},
   "outputs": [
    {
     "data": {
      "text/html": [
       "<div>\n",
       "<style scoped>\n",
       "    .dataframe tbody tr th:only-of-type {\n",
       "        vertical-align: middle;\n",
       "    }\n",
       "\n",
       "    .dataframe tbody tr th {\n",
       "        vertical-align: top;\n",
       "    }\n",
       "\n",
       "    .dataframe thead th {\n",
       "        text-align: right;\n",
       "    }\n",
       "</style>\n",
       "<table border=\"1\" class=\"dataframe\">\n",
       "  <thead>\n",
       "    <tr style=\"text-align: right;\">\n",
       "      <th></th>\n",
       "      <th>opponent_name</th>\n",
       "      <th>your_name</th>\n",
       "      <th>opponent_letter</th>\n",
       "      <th>your_choice_letter</th>\n",
       "      <th>Result</th>\n",
       "      <th>combined</th>\n",
       "    </tr>\n",
       "  </thead>\n",
       "  <tbody>\n",
       "    <tr>\n",
       "      <th>0</th>\n",
       "      <td>Rock</td>\n",
       "      <td>Rock</td>\n",
       "      <td>A</td>\n",
       "      <td>X</td>\n",
       "      <td>draw</td>\n",
       "      <td>AX</td>\n",
       "    </tr>\n",
       "    <tr>\n",
       "      <th>1</th>\n",
       "      <td>Rock</td>\n",
       "      <td>Paper</td>\n",
       "      <td>A</td>\n",
       "      <td>Y</td>\n",
       "      <td>win</td>\n",
       "      <td>AY</td>\n",
       "    </tr>\n",
       "    <tr>\n",
       "      <th>2</th>\n",
       "      <td>Rock</td>\n",
       "      <td>Scissors</td>\n",
       "      <td>A</td>\n",
       "      <td>Z</td>\n",
       "      <td>lose</td>\n",
       "      <td>AZ</td>\n",
       "    </tr>\n",
       "    <tr>\n",
       "      <th>3</th>\n",
       "      <td>Paper</td>\n",
       "      <td>Rock</td>\n",
       "      <td>B</td>\n",
       "      <td>X</td>\n",
       "      <td>lose</td>\n",
       "      <td>BX</td>\n",
       "    </tr>\n",
       "    <tr>\n",
       "      <th>4</th>\n",
       "      <td>Paper</td>\n",
       "      <td>Paper</td>\n",
       "      <td>B</td>\n",
       "      <td>Y</td>\n",
       "      <td>draw</td>\n",
       "      <td>BY</td>\n",
       "    </tr>\n",
       "    <tr>\n",
       "      <th>5</th>\n",
       "      <td>Paper</td>\n",
       "      <td>Scissors</td>\n",
       "      <td>B</td>\n",
       "      <td>Z</td>\n",
       "      <td>win</td>\n",
       "      <td>BZ</td>\n",
       "    </tr>\n",
       "    <tr>\n",
       "      <th>6</th>\n",
       "      <td>Scissors</td>\n",
       "      <td>Rock</td>\n",
       "      <td>C</td>\n",
       "      <td>X</td>\n",
       "      <td>win</td>\n",
       "      <td>CX</td>\n",
       "    </tr>\n",
       "    <tr>\n",
       "      <th>7</th>\n",
       "      <td>Scissors</td>\n",
       "      <td>Paper</td>\n",
       "      <td>C</td>\n",
       "      <td>Y</td>\n",
       "      <td>lose</td>\n",
       "      <td>CY</td>\n",
       "    </tr>\n",
       "    <tr>\n",
       "      <th>8</th>\n",
       "      <td>Scissors</td>\n",
       "      <td>Scissors</td>\n",
       "      <td>C</td>\n",
       "      <td>Z</td>\n",
       "      <td>draw</td>\n",
       "      <td>CZ</td>\n",
       "    </tr>\n",
       "  </tbody>\n",
       "</table>\n",
       "</div>"
      ],
      "text/plain": [
       "  opponent_name your_name opponent_letter your_choice_letter Result combined\n",
       "0          Rock      Rock               A                  X   draw       AX\n",
       "1          Rock     Paper               A                  Y    win       AY\n",
       "2          Rock  Scissors               A                  Z   lose       AZ\n",
       "3         Paper      Rock               B                  X   lose       BX\n",
       "4         Paper     Paper               B                  Y   draw       BY\n",
       "5         Paper  Scissors               B                  Z    win       BZ\n",
       "6      Scissors      Rock               C                  X    win       CX\n",
       "7      Scissors     Paper               C                  Y   lose       CY\n",
       "8      Scissors  Scissors               C                  Z   draw       CZ"
      ]
     },
     "execution_count": 51,
     "metadata": {},
     "output_type": "execute_result"
    }
   ],
   "source": [
    "all_possible_results['combined']= all_possible_results['opponent_letter'] + all_possible_results['your_choice_letter']\n",
    "all_possible_results"
   ]
  },
  {
   "cell_type": "code",
   "execution_count": 52,
   "metadata": {},
   "outputs": [
    {
     "data": {
      "text/html": [
       "<div>\n",
       "<style scoped>\n",
       "    .dataframe tbody tr th:only-of-type {\n",
       "        vertical-align: middle;\n",
       "    }\n",
       "\n",
       "    .dataframe tbody tr th {\n",
       "        vertical-align: top;\n",
       "    }\n",
       "\n",
       "    .dataframe thead th {\n",
       "        text-align: right;\n",
       "    }\n",
       "</style>\n",
       "<table border=\"1\" class=\"dataframe\">\n",
       "  <thead>\n",
       "    <tr style=\"text-align: right;\">\n",
       "      <th></th>\n",
       "      <th>Result</th>\n",
       "      <th>Points</th>\n",
       "    </tr>\n",
       "  </thead>\n",
       "  <tbody>\n",
       "    <tr>\n",
       "      <th>0</th>\n",
       "      <td>win</td>\n",
       "      <td>6</td>\n",
       "    </tr>\n",
       "    <tr>\n",
       "      <th>1</th>\n",
       "      <td>draw</td>\n",
       "      <td>3</td>\n",
       "    </tr>\n",
       "    <tr>\n",
       "      <th>2</th>\n",
       "      <td>loose</td>\n",
       "      <td>0</td>\n",
       "    </tr>\n",
       "  </tbody>\n",
       "</table>\n",
       "</div>"
      ],
      "text/plain": [
       "  Result  Points\n",
       "0    win       6\n",
       "1   draw       3\n",
       "2  loose       0"
      ]
     },
     "execution_count": 52,
     "metadata": {},
     "output_type": "execute_result"
    }
   ],
   "source": [
    "values_of_result"
   ]
  },
  {
   "cell_type": "code",
   "execution_count": 53,
   "metadata": {},
   "outputs": [],
   "source": [
    "all_possible_results = pd.merge(all_possible_results,values_of_result,on='Result')"
   ]
  },
  {
   "cell_type": "code",
   "execution_count": 54,
   "metadata": {},
   "outputs": [
    {
     "data": {
      "text/html": [
       "<div>\n",
       "<style scoped>\n",
       "    .dataframe tbody tr th:only-of-type {\n",
       "        vertical-align: middle;\n",
       "    }\n",
       "\n",
       "    .dataframe tbody tr th {\n",
       "        vertical-align: top;\n",
       "    }\n",
       "\n",
       "    .dataframe thead th {\n",
       "        text-align: right;\n",
       "    }\n",
       "</style>\n",
       "<table border=\"1\" class=\"dataframe\">\n",
       "  <thead>\n",
       "    <tr style=\"text-align: right;\">\n",
       "      <th></th>\n",
       "      <th>opponent_name</th>\n",
       "      <th>your_name</th>\n",
       "      <th>opponent_letter</th>\n",
       "      <th>your_choice_letter</th>\n",
       "      <th>Result</th>\n",
       "      <th>combined</th>\n",
       "      <th>Points</th>\n",
       "    </tr>\n",
       "  </thead>\n",
       "  <tbody>\n",
       "    <tr>\n",
       "      <th>0</th>\n",
       "      <td>Rock</td>\n",
       "      <td>Rock</td>\n",
       "      <td>A</td>\n",
       "      <td>X</td>\n",
       "      <td>draw</td>\n",
       "      <td>AX</td>\n",
       "      <td>3</td>\n",
       "    </tr>\n",
       "    <tr>\n",
       "      <th>1</th>\n",
       "      <td>Paper</td>\n",
       "      <td>Paper</td>\n",
       "      <td>B</td>\n",
       "      <td>Y</td>\n",
       "      <td>draw</td>\n",
       "      <td>BY</td>\n",
       "      <td>3</td>\n",
       "    </tr>\n",
       "    <tr>\n",
       "      <th>2</th>\n",
       "      <td>Scissors</td>\n",
       "      <td>Scissors</td>\n",
       "      <td>C</td>\n",
       "      <td>Z</td>\n",
       "      <td>draw</td>\n",
       "      <td>CZ</td>\n",
       "      <td>3</td>\n",
       "    </tr>\n",
       "    <tr>\n",
       "      <th>3</th>\n",
       "      <td>Rock</td>\n",
       "      <td>Paper</td>\n",
       "      <td>A</td>\n",
       "      <td>Y</td>\n",
       "      <td>win</td>\n",
       "      <td>AY</td>\n",
       "      <td>6</td>\n",
       "    </tr>\n",
       "    <tr>\n",
       "      <th>4</th>\n",
       "      <td>Paper</td>\n",
       "      <td>Scissors</td>\n",
       "      <td>B</td>\n",
       "      <td>Z</td>\n",
       "      <td>win</td>\n",
       "      <td>BZ</td>\n",
       "      <td>6</td>\n",
       "    </tr>\n",
       "    <tr>\n",
       "      <th>5</th>\n",
       "      <td>Scissors</td>\n",
       "      <td>Rock</td>\n",
       "      <td>C</td>\n",
       "      <td>X</td>\n",
       "      <td>win</td>\n",
       "      <td>CX</td>\n",
       "      <td>6</td>\n",
       "    </tr>\n",
       "  </tbody>\n",
       "</table>\n",
       "</div>"
      ],
      "text/plain": [
       "  opponent_name your_name opponent_letter your_choice_letter Result combined  \\\n",
       "0          Rock      Rock               A                  X   draw       AX   \n",
       "1         Paper     Paper               B                  Y   draw       BY   \n",
       "2      Scissors  Scissors               C                  Z   draw       CZ   \n",
       "3          Rock     Paper               A                  Y    win       AY   \n",
       "4         Paper  Scissors               B                  Z    win       BZ   \n",
       "5      Scissors      Rock               C                  X    win       CX   \n",
       "\n",
       "   Points  \n",
       "0       3  \n",
       "1       3  \n",
       "2       3  \n",
       "3       6  \n",
       "4       6  \n",
       "5       6  "
      ]
     },
     "execution_count": 54,
     "metadata": {},
     "output_type": "execute_result"
    }
   ],
   "source": [
    "all_possible_results"
   ]
  },
  {
   "cell_type": "code",
   "execution_count": 55,
   "metadata": {},
   "outputs": [
    {
     "data": {
      "text/html": [
       "<div>\n",
       "<style scoped>\n",
       "    .dataframe tbody tr th:only-of-type {\n",
       "        vertical-align: middle;\n",
       "    }\n",
       "\n",
       "    .dataframe tbody tr th {\n",
       "        vertical-align: top;\n",
       "    }\n",
       "\n",
       "    .dataframe thead th {\n",
       "        text-align: right;\n",
       "    }\n",
       "</style>\n",
       "<table border=\"1\" class=\"dataframe\">\n",
       "  <thead>\n",
       "    <tr style=\"text-align: right;\">\n",
       "      <th></th>\n",
       "      <th>opponent</th>\n",
       "      <th>you</th>\n",
       "      <th>combined</th>\n",
       "    </tr>\n",
       "  </thead>\n",
       "  <tbody>\n",
       "    <tr>\n",
       "      <th>0</th>\n",
       "      <td>C</td>\n",
       "      <td>Y</td>\n",
       "      <td>CY</td>\n",
       "    </tr>\n",
       "    <tr>\n",
       "      <th>1</th>\n",
       "      <td>B</td>\n",
       "      <td>Z</td>\n",
       "      <td>BZ</td>\n",
       "    </tr>\n",
       "    <tr>\n",
       "      <th>2</th>\n",
       "      <td>B</td>\n",
       "      <td>Z</td>\n",
       "      <td>BZ</td>\n",
       "    </tr>\n",
       "    <tr>\n",
       "      <th>3</th>\n",
       "      <td>C</td>\n",
       "      <td>Y</td>\n",
       "      <td>CY</td>\n",
       "    </tr>\n",
       "    <tr>\n",
       "      <th>4</th>\n",
       "      <td>B</td>\n",
       "      <td>Y</td>\n",
       "      <td>BY</td>\n",
       "    </tr>\n",
       "    <tr>\n",
       "      <th>...</th>\n",
       "      <td>...</td>\n",
       "      <td>...</td>\n",
       "      <td>...</td>\n",
       "    </tr>\n",
       "    <tr>\n",
       "      <th>2495</th>\n",
       "      <td>C</td>\n",
       "      <td>Y</td>\n",
       "      <td>CY</td>\n",
       "    </tr>\n",
       "    <tr>\n",
       "      <th>2496</th>\n",
       "      <td>C</td>\n",
       "      <td>Z</td>\n",
       "      <td>CZ</td>\n",
       "    </tr>\n",
       "    <tr>\n",
       "      <th>2497</th>\n",
       "      <td>B</td>\n",
       "      <td>X</td>\n",
       "      <td>BX</td>\n",
       "    </tr>\n",
       "    <tr>\n",
       "      <th>2498</th>\n",
       "      <td>A</td>\n",
       "      <td>X</td>\n",
       "      <td>AX</td>\n",
       "    </tr>\n",
       "    <tr>\n",
       "      <th>2499</th>\n",
       "      <td>C</td>\n",
       "      <td>Y</td>\n",
       "      <td>CY</td>\n",
       "    </tr>\n",
       "  </tbody>\n",
       "</table>\n",
       "<p>2500 rows × 3 columns</p>\n",
       "</div>"
      ],
      "text/plain": [
       "     opponent you combined\n",
       "0           C   Y       CY\n",
       "1           B   Z       BZ\n",
       "2           B   Z       BZ\n",
       "3           C   Y       CY\n",
       "4           B   Y       BY\n",
       "...       ...  ..      ...\n",
       "2495        C   Y       CY\n",
       "2496        C   Z       CZ\n",
       "2497        B   X       BX\n",
       "2498        A   X       AX\n",
       "2499        C   Y       CY\n",
       "\n",
       "[2500 rows x 3 columns]"
      ]
     },
     "execution_count": 55,
     "metadata": {},
     "output_type": "execute_result"
    }
   ],
   "source": [
    "input['combined'] = input['opponent'] + input['you']\n",
    "input"
   ]
  },
  {
   "cell_type": "code",
   "execution_count": 56,
   "metadata": {},
   "outputs": [
    {
     "data": {
      "text/plain": [
       "7278"
      ]
     },
     "execution_count": 56,
     "metadata": {},
     "output_type": "execute_result"
    }
   ],
   "source": [
    "sum_result_points = pd.merge(input,all_possible_results,on='combined')\n",
    "sum_result_points = sum_result_points['Points'].sum()\n",
    "sum_result_points"
   ]
  },
  {
   "cell_type": "code",
   "execution_count": 57,
   "metadata": {},
   "outputs": [
    {
     "data": {
      "text/plain": [
       "13268"
      ]
     },
     "execution_count": 57,
     "metadata": {},
     "output_type": "execute_result"
    }
   ],
   "source": [
    "total_points = sum_value_of_choices + sum_result_points\n",
    "total_points"
   ]
  },
  {
   "cell_type": "markdown",
   "metadata": {},
   "source": [
    "Part 2 \n",
    "your own letter doesn´t represent your choice, but the outcome you would like to have:\n",
    "X = lose\n",
    "Y = draw\n",
    "Z = win"
   ]
  },
  {
   "cell_type": "code",
   "execution_count": 203,
   "metadata": {},
   "outputs": [],
   "source": [
    "meaning_of_letter_part2 = pd.read_csv('meaning_of_letter_part2.txt')\n",
    "values_of_choicepart2 = pd.read_csv('values_of_choice.txt')\n",
    "input_part2 = pd.read_csv('day2_input.txt',header=None,sep=' ')\n",
    "all_possible_results_part2 = pd.read_csv('all_possible_results.txt')\n",
    "values_of_result_part2 = pd.read_csv('values_of_result.txt')\n",
    "\n"
   ]
  },
  {
   "cell_type": "code",
   "execution_count": 204,
   "metadata": {},
   "outputs": [],
   "source": [
    "input_part2 = input_part2.set_axis(['opponents_choice','game_result_letter'],axis='columns')"
   ]
  },
  {
   "cell_type": "code",
   "execution_count": 205,
   "metadata": {},
   "outputs": [],
   "source": [
    "input_part2 = pd.merge(input_part2,meaning_of_letter_part2,on='game_result_letter')"
   ]
  },
  {
   "cell_type": "code",
   "execution_count": 206,
   "metadata": {},
   "outputs": [],
   "source": [
    "all_possible_results_part2 = all_possible_results_part2.drop(columns=['opponent_name','your_name'])\n",
    "all_possible_results_part2 = all_possible_results_part2.rename(columns={'opponent_letter':'opponents_choice','your_choice_letter':'your_choice','Result':'result_name'})"
   ]
  },
  {
   "cell_type": "code",
   "execution_count": 207,
   "metadata": {},
   "outputs": [],
   "source": [
    "input_part2 = input_part2.drop(columns=('game_result_letter'))"
   ]
  },
  {
   "cell_type": "code",
   "execution_count": 208,
   "metadata": {},
   "outputs": [],
   "source": [
    "input_join = pd.merge(input_part2,all_possible_results_part2, on= ('opponents_choice','result_name'))"
   ]
  },
  {
   "cell_type": "code",
   "execution_count": 209,
   "metadata": {},
   "outputs": [],
   "source": [
    "values_of_choicepart2 = values_of_choicepart2[['your_choice_letter','Value_of_letter']]\n",
    "values_of_choicepart2 = values_of_choicepart2.rename(columns={'your_choice_letter':'your_choice'})"
   ]
  },
  {
   "cell_type": "code",
   "execution_count": 210,
   "metadata": {},
   "outputs": [
    {
     "data": {
      "text/html": [
       "<div>\n",
       "<style scoped>\n",
       "    .dataframe tbody tr th:only-of-type {\n",
       "        vertical-align: middle;\n",
       "    }\n",
       "\n",
       "    .dataframe tbody tr th {\n",
       "        vertical-align: top;\n",
       "    }\n",
       "\n",
       "    .dataframe thead th {\n",
       "        text-align: right;\n",
       "    }\n",
       "</style>\n",
       "<table border=\"1\" class=\"dataframe\">\n",
       "  <thead>\n",
       "    <tr style=\"text-align: right;\">\n",
       "      <th></th>\n",
       "      <th>opponents_choice</th>\n",
       "      <th>result_name</th>\n",
       "      <th>your_choice</th>\n",
       "      <th>Value_of_letter</th>\n",
       "    </tr>\n",
       "  </thead>\n",
       "  <tbody>\n",
       "    <tr>\n",
       "      <th>0</th>\n",
       "      <td>C</td>\n",
       "      <td>draw</td>\n",
       "      <td>Z</td>\n",
       "      <td>3</td>\n",
       "    </tr>\n",
       "    <tr>\n",
       "      <th>1</th>\n",
       "      <td>C</td>\n",
       "      <td>draw</td>\n",
       "      <td>Z</td>\n",
       "      <td>3</td>\n",
       "    </tr>\n",
       "    <tr>\n",
       "      <th>2</th>\n",
       "      <td>C</td>\n",
       "      <td>draw</td>\n",
       "      <td>Z</td>\n",
       "      <td>3</td>\n",
       "    </tr>\n",
       "    <tr>\n",
       "      <th>3</th>\n",
       "      <td>C</td>\n",
       "      <td>draw</td>\n",
       "      <td>Z</td>\n",
       "      <td>3</td>\n",
       "    </tr>\n",
       "    <tr>\n",
       "      <th>4</th>\n",
       "      <td>C</td>\n",
       "      <td>draw</td>\n",
       "      <td>Z</td>\n",
       "      <td>3</td>\n",
       "    </tr>\n",
       "    <tr>\n",
       "      <th>...</th>\n",
       "      <td>...</td>\n",
       "      <td>...</td>\n",
       "      <td>...</td>\n",
       "      <td>...</td>\n",
       "    </tr>\n",
       "    <tr>\n",
       "      <th>2495</th>\n",
       "      <td>B</td>\n",
       "      <td>lose</td>\n",
       "      <td>X</td>\n",
       "      <td>1</td>\n",
       "    </tr>\n",
       "    <tr>\n",
       "      <th>2496</th>\n",
       "      <td>B</td>\n",
       "      <td>lose</td>\n",
       "      <td>X</td>\n",
       "      <td>1</td>\n",
       "    </tr>\n",
       "    <tr>\n",
       "      <th>2497</th>\n",
       "      <td>B</td>\n",
       "      <td>lose</td>\n",
       "      <td>X</td>\n",
       "      <td>1</td>\n",
       "    </tr>\n",
       "    <tr>\n",
       "      <th>2498</th>\n",
       "      <td>B</td>\n",
       "      <td>lose</td>\n",
       "      <td>X</td>\n",
       "      <td>1</td>\n",
       "    </tr>\n",
       "    <tr>\n",
       "      <th>2499</th>\n",
       "      <td>B</td>\n",
       "      <td>lose</td>\n",
       "      <td>X</td>\n",
       "      <td>1</td>\n",
       "    </tr>\n",
       "  </tbody>\n",
       "</table>\n",
       "<p>2500 rows × 4 columns</p>\n",
       "</div>"
      ],
      "text/plain": [
       "     opponents_choice result_name your_choice  Value_of_letter\n",
       "0                   C        draw           Z                3\n",
       "1                   C        draw           Z                3\n",
       "2                   C        draw           Z                3\n",
       "3                   C        draw           Z                3\n",
       "4                   C        draw           Z                3\n",
       "...               ...         ...         ...              ...\n",
       "2495                B        lose           X                1\n",
       "2496                B        lose           X                1\n",
       "2497                B        lose           X                1\n",
       "2498                B        lose           X                1\n",
       "2499                B        lose           X                1\n",
       "\n",
       "[2500 rows x 4 columns]"
      ]
     },
     "execution_count": 210,
     "metadata": {},
     "output_type": "execute_result"
    }
   ],
   "source": [
    "input_join = pd.merge(input_join,values_of_choicepart2,on='your_choice')\n",
    "input_join"
   ]
  },
  {
   "cell_type": "code",
   "execution_count": 211,
   "metadata": {},
   "outputs": [
    {
     "data": {
      "text/html": [
       "<div>\n",
       "<style scoped>\n",
       "    .dataframe tbody tr th:only-of-type {\n",
       "        vertical-align: middle;\n",
       "    }\n",
       "\n",
       "    .dataframe tbody tr th {\n",
       "        vertical-align: top;\n",
       "    }\n",
       "\n",
       "    .dataframe thead th {\n",
       "        text-align: right;\n",
       "    }\n",
       "</style>\n",
       "<table border=\"1\" class=\"dataframe\">\n",
       "  <thead>\n",
       "    <tr style=\"text-align: right;\">\n",
       "      <th></th>\n",
       "      <th>result_name</th>\n",
       "      <th>Points</th>\n",
       "    </tr>\n",
       "  </thead>\n",
       "  <tbody>\n",
       "    <tr>\n",
       "      <th>0</th>\n",
       "      <td>win</td>\n",
       "      <td>6</td>\n",
       "    </tr>\n",
       "    <tr>\n",
       "      <th>1</th>\n",
       "      <td>draw</td>\n",
       "      <td>3</td>\n",
       "    </tr>\n",
       "    <tr>\n",
       "      <th>2</th>\n",
       "      <td>lose</td>\n",
       "      <td>0</td>\n",
       "    </tr>\n",
       "  </tbody>\n",
       "</table>\n",
       "</div>"
      ],
      "text/plain": [
       "  result_name  Points\n",
       "0         win       6\n",
       "1        draw       3\n",
       "2        lose       0"
      ]
     },
     "execution_count": 211,
     "metadata": {},
     "output_type": "execute_result"
    }
   ],
   "source": [
    "values_of_result_part2 = values_of_result_part2.rename(columns={'Result':'result_name'})\n",
    "values_of_result_part2"
   ]
  },
  {
   "cell_type": "code",
   "execution_count": 212,
   "metadata": {},
   "outputs": [],
   "source": [
    "input_final = pd.merge(input_join,values_of_result_part2,on='result_name')"
   ]
  },
  {
   "cell_type": "code",
   "execution_count": 213,
   "metadata": {},
   "outputs": [
    {
     "data": {
      "text/html": [
       "<div>\n",
       "<style scoped>\n",
       "    .dataframe tbody tr th:only-of-type {\n",
       "        vertical-align: middle;\n",
       "    }\n",
       "\n",
       "    .dataframe tbody tr th {\n",
       "        vertical-align: top;\n",
       "    }\n",
       "\n",
       "    .dataframe thead th {\n",
       "        text-align: right;\n",
       "    }\n",
       "</style>\n",
       "<table border=\"1\" class=\"dataframe\">\n",
       "  <thead>\n",
       "    <tr style=\"text-align: right;\">\n",
       "      <th></th>\n",
       "      <th>opponents_choice</th>\n",
       "      <th>result_name</th>\n",
       "      <th>your_choice</th>\n",
       "      <th>Value_of_letter</th>\n",
       "      <th>Points</th>\n",
       "    </tr>\n",
       "  </thead>\n",
       "  <tbody>\n",
       "    <tr>\n",
       "      <th>0</th>\n",
       "      <td>C</td>\n",
       "      <td>draw</td>\n",
       "      <td>Z</td>\n",
       "      <td>3</td>\n",
       "      <td>3</td>\n",
       "    </tr>\n",
       "    <tr>\n",
       "      <th>1</th>\n",
       "      <td>C</td>\n",
       "      <td>draw</td>\n",
       "      <td>Z</td>\n",
       "      <td>3</td>\n",
       "      <td>3</td>\n",
       "    </tr>\n",
       "    <tr>\n",
       "      <th>2</th>\n",
       "      <td>C</td>\n",
       "      <td>draw</td>\n",
       "      <td>Z</td>\n",
       "      <td>3</td>\n",
       "      <td>3</td>\n",
       "    </tr>\n",
       "    <tr>\n",
       "      <th>3</th>\n",
       "      <td>C</td>\n",
       "      <td>draw</td>\n",
       "      <td>Z</td>\n",
       "      <td>3</td>\n",
       "      <td>3</td>\n",
       "    </tr>\n",
       "    <tr>\n",
       "      <th>4</th>\n",
       "      <td>C</td>\n",
       "      <td>draw</td>\n",
       "      <td>Z</td>\n",
       "      <td>3</td>\n",
       "      <td>3</td>\n",
       "    </tr>\n",
       "    <tr>\n",
       "      <th>...</th>\n",
       "      <td>...</td>\n",
       "      <td>...</td>\n",
       "      <td>...</td>\n",
       "      <td>...</td>\n",
       "      <td>...</td>\n",
       "    </tr>\n",
       "    <tr>\n",
       "      <th>2495</th>\n",
       "      <td>B</td>\n",
       "      <td>lose</td>\n",
       "      <td>X</td>\n",
       "      <td>1</td>\n",
       "      <td>0</td>\n",
       "    </tr>\n",
       "    <tr>\n",
       "      <th>2496</th>\n",
       "      <td>B</td>\n",
       "      <td>lose</td>\n",
       "      <td>X</td>\n",
       "      <td>1</td>\n",
       "      <td>0</td>\n",
       "    </tr>\n",
       "    <tr>\n",
       "      <th>2497</th>\n",
       "      <td>B</td>\n",
       "      <td>lose</td>\n",
       "      <td>X</td>\n",
       "      <td>1</td>\n",
       "      <td>0</td>\n",
       "    </tr>\n",
       "    <tr>\n",
       "      <th>2498</th>\n",
       "      <td>B</td>\n",
       "      <td>lose</td>\n",
       "      <td>X</td>\n",
       "      <td>1</td>\n",
       "      <td>0</td>\n",
       "    </tr>\n",
       "    <tr>\n",
       "      <th>2499</th>\n",
       "      <td>B</td>\n",
       "      <td>lose</td>\n",
       "      <td>X</td>\n",
       "      <td>1</td>\n",
       "      <td>0</td>\n",
       "    </tr>\n",
       "  </tbody>\n",
       "</table>\n",
       "<p>2500 rows × 5 columns</p>\n",
       "</div>"
      ],
      "text/plain": [
       "     opponents_choice result_name your_choice  Value_of_letter  Points\n",
       "0                   C        draw           Z                3       3\n",
       "1                   C        draw           Z                3       3\n",
       "2                   C        draw           Z                3       3\n",
       "3                   C        draw           Z                3       3\n",
       "4                   C        draw           Z                3       3\n",
       "...               ...         ...         ...              ...     ...\n",
       "2495                B        lose           X                1       0\n",
       "2496                B        lose           X                1       0\n",
       "2497                B        lose           X                1       0\n",
       "2498                B        lose           X                1       0\n",
       "2499                B        lose           X                1       0\n",
       "\n",
       "[2500 rows x 5 columns]"
      ]
     },
     "execution_count": 213,
     "metadata": {},
     "output_type": "execute_result"
    }
   ],
   "source": [
    "input_final"
   ]
  },
  {
   "cell_type": "code",
   "execution_count": 214,
   "metadata": {},
   "outputs": [
    {
     "data": {
      "text/plain": [
       "15508"
      ]
     },
     "execution_count": 214,
     "metadata": {},
     "output_type": "execute_result"
    }
   ],
   "source": [
    "input_final['Value_of_letter'].sum() + input_final['Points'].sum()"
   ]
  }
 ],
 "metadata": {
  "kernelspec": {
   "display_name": "Python 3.10.7 64-bit",
   "language": "python",
   "name": "python3"
  },
  "language_info": {
   "codemirror_mode": {
    "name": "ipython",
    "version": 3
   },
   "file_extension": ".py",
   "mimetype": "text/x-python",
   "name": "python",
   "nbconvert_exporter": "python",
   "pygments_lexer": "ipython3",
   "version": "3.10.7 (tags/v3.10.7:6cc6b13, Sep  5 2022, 14:08:36) [MSC v.1933 64 bit (AMD64)]"
  },
  "orig_nbformat": 4,
  "vscode": {
   "interpreter": {
    "hash": "e51fdbc37c5adaa12a9ed97b50fdaf0ff46be7ee1a114cc405b6eaf0c36d1bf8"
   }
  }
 },
 "nbformat": 4,
 "nbformat_minor": 2
}

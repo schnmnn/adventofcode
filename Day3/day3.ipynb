{
 "cells": [
  {
   "cell_type": "code",
   "execution_count": 1,
   "metadata": {},
   "outputs": [],
   "source": [
    "import pandas as pd"
   ]
  },
  {
   "cell_type": "code",
   "execution_count": 2,
   "metadata": {},
   "outputs": [],
   "source": [
    "input = pd.read_csv('day3_input.txt',header=None)\n",
    "input = input.set_axis(['rucksack'],axis='columns')"
   ]
  },
  {
   "cell_type": "code",
   "execution_count": 3,
   "metadata": {},
   "outputs": [],
   "source": [
    "input['half_of_rucksack'] = input['rucksack'].str.len()/2\n",
    "input['half_of_rucksack'] = input['half_of_rucksack'].astype(int)"
   ]
  },
  {
   "cell_type": "code",
   "execution_count": 4,
   "metadata": {},
   "outputs": [],
   "source": [
    "input['rucksack_compartment_1'] = input.apply(\n",
    "    lambda row: row['rucksack'][:row['half_of_rucksack']], \n",
    "    axis=1\n",
    ")\n",
    "\n",
    "input['rucksack_compartment_2'] = input.apply(\n",
    "    lambda row: row['rucksack'][row['half_of_rucksack']:], \n",
    "    axis=1\n",
    ")"
   ]
  },
  {
   "cell_type": "code",
   "execution_count": 5,
   "metadata": {},
   "outputs": [
    {
     "data": {
      "text/html": [
       "<div>\n",
       "<style scoped>\n",
       "    .dataframe tbody tr th:only-of-type {\n",
       "        vertical-align: middle;\n",
       "    }\n",
       "\n",
       "    .dataframe tbody tr th {\n",
       "        vertical-align: top;\n",
       "    }\n",
       "\n",
       "    .dataframe thead th {\n",
       "        text-align: right;\n",
       "    }\n",
       "</style>\n",
       "<table border=\"1\" class=\"dataframe\">\n",
       "  <thead>\n",
       "    <tr style=\"text-align: right;\">\n",
       "      <th></th>\n",
       "      <th>rucksack</th>\n",
       "      <th>half_of_rucksack</th>\n",
       "      <th>rucksack_compartment_1</th>\n",
       "      <th>rucksack_compartment_2</th>\n",
       "    </tr>\n",
       "  </thead>\n",
       "  <tbody>\n",
       "    <tr>\n",
       "      <th>0</th>\n",
       "      <td>GGVGlqWFgVfFqqVZGFlblJPMsDbbMrDMpDsJRn</td>\n",
       "      <td>19</td>\n",
       "      <td>GGVGlqWFgVfFqqVZGFl</td>\n",
       "      <td>blJPMsDbbMrDMpDsJRn</td>\n",
       "    </tr>\n",
       "    <tr>\n",
       "      <th>1</th>\n",
       "      <td>LwzHtwdLHHwDrzPZzzsJbJ</td>\n",
       "      <td>11</td>\n",
       "      <td>LwzHtwdLHHw</td>\n",
       "      <td>DrzPZzzsJbJ</td>\n",
       "    </tr>\n",
       "    <tr>\n",
       "      <th>2</th>\n",
       "      <td>wdLTBvSvHvZVGCjhfN</td>\n",
       "      <td>9</td>\n",
       "      <td>wdLTBvSvH</td>\n",
       "      <td>vZVGCjhfN</td>\n",
       "    </tr>\n",
       "    <tr>\n",
       "      <th>3</th>\n",
       "      <td>HsSSnZVHjjssZnJpSJjBHHWgQGcgqqQLQdQFqNgWgqGNDg</td>\n",
       "      <td>23</td>\n",
       "      <td>HsSSnZVHjjssZnJpSJjBHHW</td>\n",
       "      <td>gQGcgqqQLQdQFqNgWgqGNDg</td>\n",
       "    </tr>\n",
       "    <tr>\n",
       "      <th>4</th>\n",
       "      <td>rmmRwrtfThtTrbCrGGGcLBDTqDBNQLdL</td>\n",
       "      <td>16</td>\n",
       "      <td>rmmRwrtfThtTrbCr</td>\n",
       "      <td>GGGcLBDTqDBNQLdL</td>\n",
       "    </tr>\n",
       "    <tr>\n",
       "      <th>...</th>\n",
       "      <td>...</td>\n",
       "      <td>...</td>\n",
       "      <td>...</td>\n",
       "      <td>...</td>\n",
       "    </tr>\n",
       "    <tr>\n",
       "      <th>295</th>\n",
       "      <td>TgbpGblWlMsjgWlgMfpNRgbRHHBnHHHtLpCJPCPBnBLJtQQL</td>\n",
       "      <td>24</td>\n",
       "      <td>TgbpGblWlMsjgWlgMfpNRgbR</td>\n",
       "      <td>HHBnHHHtLpCJPCPBnBLJtQQL</td>\n",
       "    </tr>\n",
       "    <tr>\n",
       "      <th>296</th>\n",
       "      <td>sbTlblTlvRbbGblbFcdDzccVcDVvzzzd</td>\n",
       "      <td>16</td>\n",
       "      <td>sbTlblTlvRbbGblb</td>\n",
       "      <td>FcdDzccVcDVvzzzd</td>\n",
       "    </tr>\n",
       "    <tr>\n",
       "      <th>297</th>\n",
       "      <td>zMzfzlGwSBMMSCMzhsPgfcPcfcbhjQPt</td>\n",
       "      <td>16</td>\n",
       "      <td>zMzfzlGwSBMMSCMz</td>\n",
       "      <td>hsPgfcPcfcbhjQPt</td>\n",
       "    </tr>\n",
       "    <tr>\n",
       "      <th>298</th>\n",
       "      <td>FHHqJVdJmFmdVrJdJppthscjGtqRPRcccgcQbR</td>\n",
       "      <td>19</td>\n",
       "      <td>FHHqJVdJmFmdVrJdJpp</td>\n",
       "      <td>thscjGtqRPRcccgcQbR</td>\n",
       "    </tr>\n",
       "    <tr>\n",
       "      <th>299</th>\n",
       "      <td>rvNJJpLrvvLnJvNFFvZZZBWznBWGSDCMnCwz</td>\n",
       "      <td>18</td>\n",
       "      <td>rvNJJpLrvvLnJvNFFv</td>\n",
       "      <td>ZZZBWznBWGSDCMnCwz</td>\n",
       "    </tr>\n",
       "  </tbody>\n",
       "</table>\n",
       "<p>300 rows × 4 columns</p>\n",
       "</div>"
      ],
      "text/plain": [
       "                                             rucksack  half_of_rucksack  \\\n",
       "0              GGVGlqWFgVfFqqVZGFlblJPMsDbbMrDMpDsJRn                19   \n",
       "1                              LwzHtwdLHHwDrzPZzzsJbJ                11   \n",
       "2                                  wdLTBvSvHvZVGCjhfN                 9   \n",
       "3      HsSSnZVHjjssZnJpSJjBHHWgQGcgqqQLQdQFqNgWgqGNDg                23   \n",
       "4                    rmmRwrtfThtTrbCrGGGcLBDTqDBNQLdL                16   \n",
       "..                                                ...               ...   \n",
       "295  TgbpGblWlMsjgWlgMfpNRgbRHHBnHHHtLpCJPCPBnBLJtQQL                24   \n",
       "296                  sbTlblTlvRbbGblbFcdDzccVcDVvzzzd                16   \n",
       "297                  zMzfzlGwSBMMSCMzhsPgfcPcfcbhjQPt                16   \n",
       "298            FHHqJVdJmFmdVrJdJppthscjGtqRPRcccgcQbR                19   \n",
       "299              rvNJJpLrvvLnJvNFFvZZZBWznBWGSDCMnCwz                18   \n",
       "\n",
       "       rucksack_compartment_1    rucksack_compartment_2  \n",
       "0         GGVGlqWFgVfFqqVZGFl       blJPMsDbbMrDMpDsJRn  \n",
       "1                 LwzHtwdLHHw               DrzPZzzsJbJ  \n",
       "2                   wdLTBvSvH                 vZVGCjhfN  \n",
       "3     HsSSnZVHjjssZnJpSJjBHHW   gQGcgqqQLQdQFqNgWgqGNDg  \n",
       "4            rmmRwrtfThtTrbCr          GGGcLBDTqDBNQLdL  \n",
       "..                        ...                       ...  \n",
       "295  TgbpGblWlMsjgWlgMfpNRgbR  HHBnHHHtLpCJPCPBnBLJtQQL  \n",
       "296          sbTlblTlvRbbGblb          FcdDzccVcDVvzzzd  \n",
       "297          zMzfzlGwSBMMSCMz          hsPgfcPcfcbhjQPt  \n",
       "298       FHHqJVdJmFmdVrJdJpp       thscjGtqRPRcccgcQbR  \n",
       "299        rvNJJpLrvvLnJvNFFv        ZZZBWznBWGSDCMnCwz  \n",
       "\n",
       "[300 rows x 4 columns]"
      ]
     },
     "execution_count": 5,
     "metadata": {},
     "output_type": "execute_result"
    }
   ],
   "source": [
    "input"
   ]
  },
  {
   "cell_type": "code",
   "execution_count": 6,
   "metadata": {},
   "outputs": [],
   "source": [
    "rucksack_compartment_1_list = input['rucksack_compartment_1'].to_list()\n",
    "rucksack_compartment_2_list = input['rucksack_compartment_2'].to_list()"
   ]
  },
  {
   "cell_type": "code",
   "execution_count": 7,
   "metadata": {},
   "outputs": [
    {
     "data": {
      "text/plain": [
       "300"
      ]
     },
     "execution_count": 7,
     "metadata": {},
     "output_type": "execute_result"
    }
   ],
   "source": [
    "len_rucksack = len(rucksack_compartment_1_list)\n",
    "len_rucksack"
   ]
  },
  {
   "cell_type": "code",
   "execution_count": 8,
   "metadata": {},
   "outputs": [],
   "source": [
    "list_of_wrong_items = []"
   ]
  },
  {
   "cell_type": "code",
   "execution_count": 9,
   "metadata": {},
   "outputs": [],
   "source": [
    "for count_item_rucksack in range(len_rucksack):\n",
    "    for list_objekt in rucksack_compartment_1_list[count_item_rucksack]:\n",
    "        if list_objekt in rucksack_compartment_2_list[count_item_rucksack]:\n",
    "            a = list_objekt\n",
    "    list_of_wrong_items.append(a)\n",
    "            \n",
    "            "
   ]
  },
  {
   "cell_type": "code",
   "execution_count": 10,
   "metadata": {},
   "outputs": [
    {
     "data": {
      "text/plain": [
       "300"
      ]
     },
     "execution_count": 10,
     "metadata": {},
     "output_type": "execute_result"
    }
   ],
   "source": [
    "len(list_of_wrong_items)"
   ]
  },
  {
   "cell_type": "code",
   "execution_count": 11,
   "metadata": {},
   "outputs": [],
   "source": [
    "wrong_items = pd.DataFrame(list_of_wrong_items)\n",
    "wrong_items = wrong_items.set_axis(['item'],axis='columns')"
   ]
  },
  {
   "cell_type": "code",
   "execution_count": 12,
   "metadata": {},
   "outputs": [
    {
     "data": {
      "text/html": [
       "<div>\n",
       "<style scoped>\n",
       "    .dataframe tbody tr th:only-of-type {\n",
       "        vertical-align: middle;\n",
       "    }\n",
       "\n",
       "    .dataframe tbody tr th {\n",
       "        vertical-align: top;\n",
       "    }\n",
       "\n",
       "    .dataframe thead th {\n",
       "        text-align: right;\n",
       "    }\n",
       "</style>\n",
       "<table border=\"1\" class=\"dataframe\">\n",
       "  <thead>\n",
       "    <tr style=\"text-align: right;\">\n",
       "      <th></th>\n",
       "      <th>item</th>\n",
       "    </tr>\n",
       "  </thead>\n",
       "  <tbody>\n",
       "    <tr>\n",
       "      <th>0</th>\n",
       "      <td>l</td>\n",
       "    </tr>\n",
       "    <tr>\n",
       "      <th>1</th>\n",
       "      <td>z</td>\n",
       "    </tr>\n",
       "    <tr>\n",
       "      <th>2</th>\n",
       "      <td>v</td>\n",
       "    </tr>\n",
       "    <tr>\n",
       "      <th>3</th>\n",
       "      <td>W</td>\n",
       "    </tr>\n",
       "    <tr>\n",
       "      <th>4</th>\n",
       "      <td>T</td>\n",
       "    </tr>\n",
       "    <tr>\n",
       "      <th>...</th>\n",
       "      <td>...</td>\n",
       "    </tr>\n",
       "    <tr>\n",
       "      <th>295</th>\n",
       "      <td>p</td>\n",
       "    </tr>\n",
       "    <tr>\n",
       "      <th>296</th>\n",
       "      <td>v</td>\n",
       "    </tr>\n",
       "    <tr>\n",
       "      <th>297</th>\n",
       "      <td>f</td>\n",
       "    </tr>\n",
       "    <tr>\n",
       "      <th>298</th>\n",
       "      <td>q</td>\n",
       "    </tr>\n",
       "    <tr>\n",
       "      <th>299</th>\n",
       "      <td>n</td>\n",
       "    </tr>\n",
       "  </tbody>\n",
       "</table>\n",
       "<p>300 rows × 1 columns</p>\n",
       "</div>"
      ],
      "text/plain": [
       "    item\n",
       "0      l\n",
       "1      z\n",
       "2      v\n",
       "3      W\n",
       "4      T\n",
       "..   ...\n",
       "295    p\n",
       "296    v\n",
       "297    f\n",
       "298    q\n",
       "299    n\n",
       "\n",
       "[300 rows x 1 columns]"
      ]
     },
     "execution_count": 12,
     "metadata": {},
     "output_type": "execute_result"
    }
   ],
   "source": [
    "wrong_items"
   ]
  },
  {
   "cell_type": "code",
   "execution_count": 13,
   "metadata": {},
   "outputs": [],
   "source": [
    "prio_matching = pd.read_csv('prio_matching.csv')"
   ]
  },
  {
   "cell_type": "code",
   "execution_count": 14,
   "metadata": {},
   "outputs": [],
   "source": [
    "wrong_items = pd.merge(wrong_items,prio_matching,on='item')"
   ]
  },
  {
   "cell_type": "code",
   "execution_count": 15,
   "metadata": {},
   "outputs": [
    {
     "data": {
      "text/plain": [
       "8233"
      ]
     },
     "execution_count": 15,
     "metadata": {},
     "output_type": "execute_result"
    }
   ],
   "source": [
    "wrong_items['priorities'].sum()"
   ]
  }
 ],
 "metadata": {
  "kernelspec": {
   "display_name": "Python 3",
   "language": "python",
   "name": "python3"
  },
  "language_info": {
   "codemirror_mode": {
    "name": "ipython",
    "version": 3
   },
   "file_extension": ".py",
   "mimetype": "text/x-python",
   "name": "python",
   "nbconvert_exporter": "python",
   "pygments_lexer": "ipython3",
   "version": "3.10.7 (tags/v3.10.7:6cc6b13, Sep  5 2022, 14:08:36) [MSC v.1933 64 bit (AMD64)]"
  },
  "orig_nbformat": 4,
  "vscode": {
   "interpreter": {
    "hash": "e51fdbc37c5adaa12a9ed97b50fdaf0ff46be7ee1a114cc405b6eaf0c36d1bf8"
   }
  }
 },
 "nbformat": 4,
 "nbformat_minor": 2
}

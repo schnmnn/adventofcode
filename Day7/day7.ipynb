{
 "cells": [
  {
   "cell_type": "code",
   "execution_count": 3,
   "metadata": {},
   "outputs": [],
   "source": [
    "import pandas as pd"
   ]
  },
  {
   "cell_type": "code",
   "execution_count": 4,
   "metadata": {},
   "outputs": [],
   "source": [
    "input = pd.read_csv('input_test.txt',header=None)"
   ]
  },
  {
   "cell_type": "code",
   "execution_count": 5,
   "metadata": {},
   "outputs": [],
   "source": [
    "input = input.set_axis(['moves'],axis='columns')\n"
   ]
  },
  {
   "cell_type": "code",
   "execution_count": 6,
   "metadata": {},
   "outputs": [],
   "source": [
    "df = input.loc[(input['moves'] != '$ ls') & (input['moves'] != '$ cd ..')] "
   ]
  },
  {
   "cell_type": "code",
   "execution_count": 7,
   "metadata": {},
   "outputs": [
    {
     "data": {
      "text/html": [
       "<div>\n",
       "<style scoped>\n",
       "    .dataframe tbody tr th:only-of-type {\n",
       "        vertical-align: middle;\n",
       "    }\n",
       "\n",
       "    .dataframe tbody tr th {\n",
       "        vertical-align: top;\n",
       "    }\n",
       "\n",
       "    .dataframe thead th {\n",
       "        text-align: right;\n",
       "    }\n",
       "</style>\n",
       "<table border=\"1\" class=\"dataframe\">\n",
       "  <thead>\n",
       "    <tr style=\"text-align: right;\">\n",
       "      <th></th>\n",
       "      <th>0</th>\n",
       "      <th>2</th>\n",
       "      <th>3</th>\n",
       "      <th>4</th>\n",
       "      <th>5</th>\n",
       "      <th>6</th>\n",
       "      <th>8</th>\n",
       "      <th>9</th>\n",
       "      <th>10</th>\n",
       "      <th>11</th>\n",
       "      <th>12</th>\n",
       "      <th>14</th>\n",
       "      <th>17</th>\n",
       "      <th>19</th>\n",
       "      <th>20</th>\n",
       "      <th>21</th>\n",
       "      <th>22</th>\n",
       "    </tr>\n",
       "  </thead>\n",
       "  <tbody>\n",
       "    <tr>\n",
       "      <th>moves</th>\n",
       "      <td>$ cd /</td>\n",
       "      <td>dir a</td>\n",
       "      <td>14848514 b.txt</td>\n",
       "      <td>8504156 c.dat</td>\n",
       "      <td>dir d</td>\n",
       "      <td>$ cd a</td>\n",
       "      <td>dir e</td>\n",
       "      <td>29116 f</td>\n",
       "      <td>2557 g</td>\n",
       "      <td>62596 h.lst</td>\n",
       "      <td>$ cd e</td>\n",
       "      <td>584 i</td>\n",
       "      <td>$ cd d</td>\n",
       "      <td>4060174 j</td>\n",
       "      <td>8033020 d.log</td>\n",
       "      <td>5626152 d.ext</td>\n",
       "      <td>7214296 k</td>\n",
       "    </tr>\n",
       "  </tbody>\n",
       "</table>\n",
       "</div>"
      ],
      "text/plain": [
       "           0      2               3              4      5       6      8   \\\n",
       "moves  $ cd /  dir a  14848514 b.txt  8504156 c.dat  dir d  $ cd a  dir e   \n",
       "\n",
       "            9       10           11      12     14      17         19  \\\n",
       "moves  29116 f  2557 g  62596 h.lst  $ cd e  584 i  $ cd d  4060174 j   \n",
       "\n",
       "                  20             21         22  \n",
       "moves  8033020 d.log  5626152 d.ext  7214296 k  "
      ]
     },
     "execution_count": 7,
     "metadata": {},
     "output_type": "execute_result"
    }
   ],
   "source": [
    "df.transpose()"
   ]
  },
  {
   "attachments": {},
   "cell_type": "markdown",
   "metadata": {},
   "source": [
    "Neuer Versuch"
   ]
  },
  {
   "cell_type": "code",
   "execution_count": 138,
   "metadata": {},
   "outputs": [],
   "source": [
    "import re"
   ]
  },
  {
   "cell_type": "code",
   "execution_count": 139,
   "metadata": {},
   "outputs": [],
   "source": [
    "with open ('input_test.txt') as f:\n",
    "    input_1 = f.read()"
   ]
  },
  {
   "cell_type": "code",
   "execution_count": 140,
   "metadata": {},
   "outputs": [],
   "source": [
    "Test = input_1.replace('$ cd ..\\n','')\n",
    "Test = Test.replace('$ ls','')"
   ]
  },
  {
   "cell_type": "code",
   "execution_count": 141,
   "metadata": {},
   "outputs": [],
   "source": [
    "Test_split_1 = Test.split('$ cd ')"
   ]
  },
  {
   "cell_type": "code",
   "execution_count": 142,
   "metadata": {},
   "outputs": [],
   "source": [
    "Test_split_2 = []\n",
    "for i in Test_split_1:\n",
    "    a = i.replace('\\n',' ')\n",
    "    Test_split_2.append(a)"
   ]
  },
  {
   "cell_type": "code",
   "execution_count": 143,
   "metadata": {},
   "outputs": [],
   "source": [
    "Test_split_3 = []\n",
    "for enum,i in enumerate(Test_split_2):\n",
    "    if Test_split_2[enum] != '':\n",
    "        Test_split_3.append(Test_split_2[enum])"
   ]
  },
  {
   "cell_type": "code",
   "execution_count": 144,
   "metadata": {},
   "outputs": [
    {
     "name": "stdout",
     "output_type": "stream",
     "text": [
      "/\n",
      "  dir a 14848514 b.txt 8504156 c.dat dir d \n",
      "a\n",
      "  dir e 29116 f 2557 g 62596 h.lst \n",
      "e\n",
      "  584 i \n",
      "d\n",
      "  4060174 j 8033020 d.log 5626152 d.ext 7214296 k\n"
     ]
    }
   ],
   "source": [
    "headers = []\n",
    "inventory_of_directory = []\n",
    "for enum,i in enumerate(Test_split_3):\n",
    "    headers.append(Test_split_3[enum][0])\n",
    "    print(Test_split_3[enum][0])\n",
    "    inventory_of_directory.append(Test_split_3[enum][1:])\n",
    "    print(Test_split_3[enum][1:])"
   ]
  },
  {
   "cell_type": "code",
   "execution_count": 145,
   "metadata": {},
   "outputs": [],
   "source": [
    "directories = {}\n",
    "headers = []\n",
    "inventory_of_directory = []\n",
    "for enum,i in enumerate(Test_split_3):\n",
    "    directories[Test_split_3[enum][0]] = Test_split_3[enum][1:]\n",
    "    # headers.append(Test_split_3[enum][0])\n",
    "    # print(Test_split_3[enum][0])\n",
    "    # inventory_of_directory.append(Test_split_3[enum][1:])\n",
    "    # print(Test_split_3[enum][1:])"
   ]
  },
  {
   "cell_type": "code",
   "execution_count": 147,
   "metadata": {},
   "outputs": [],
   "source": [
    "files_sizes = {}\n",
    "subdirectories = {}\n",
    "for key,value in directories.items():\n",
    "    file_size = r'\\d+'\n",
    "    subdirs = r'dir\\s\\w+'\n",
    "    match_file_sizes = re.findall(file_size, value)\n",
    "    match_subdirectories = re.findall(subdirs, value)\n",
    "    files_sizes[key] = match_file_sizes\n",
    "    subdirectories[key] = match_subdirectories"
   ]
  },
  {
   "cell_type": "code",
   "execution_count": 148,
   "metadata": {},
   "outputs": [],
   "source": [
    "string = 'dir a 14848514 b.txt 8504156 c.dat dir d '\n",
    "file_size = r'\\d+'\n",
    "subdirs = r'dir\\s\\w+'"
   ]
  },
  {
   "cell_type": "code",
   "execution_count": 149,
   "metadata": {},
   "outputs": [],
   "source": [
    "match_file_sizes = re.findall(file_size, string)\n",
    "match_subdirectories = re.findall(subdirs, string)\n"
   ]
  },
  {
   "cell_type": "code",
   "execution_count": 150,
   "metadata": {},
   "outputs": [
    {
     "data": {
      "text/plain": [
       "{'/': ['14848514', '8504156'],\n",
       " 'a': ['29116', '2557', '62596'],\n",
       " 'e': ['584'],\n",
       " 'd': ['4060174', '8033020', '5626152', '7214296']}"
      ]
     },
     "execution_count": 150,
     "metadata": {},
     "output_type": "execute_result"
    }
   ],
   "source": [
    "new_dict_initial_file_sizes = {**directories,**files_sizes}\n",
    "new_dict_initial_file_sizes"
   ]
  },
  {
   "cell_type": "code",
   "execution_count": 151,
   "metadata": {},
   "outputs": [
    {
     "data": {
      "text/plain": [
       "{'/': ['dir a', 'dir d'], 'a': ['dir e'], 'e': [], 'd': []}"
      ]
     },
     "execution_count": 151,
     "metadata": {},
     "output_type": "execute_result"
    }
   ],
   "source": [
    "new_dict_with_subdirectories = {**directories,**subdirectories}\n",
    "new_dict_with_subdirectories"
   ]
  },
  {
   "cell_type": "code",
   "execution_count": 152,
   "metadata": {},
   "outputs": [],
   "source": [
    "for key,value in new_dict_initial_file_sizes.items():\n",
    "    sum = 0\n",
    "    for enu,i in enumerate(value):\n",
    "        size = value[enu]\n",
    "        sum = sum + int(size)\n",
    "    new_dict_initial_file_sizes[key] = sum\n"
   ]
  },
  {
   "cell_type": "code",
   "execution_count": 153,
   "metadata": {},
   "outputs": [],
   "source": [
    "for key,value in new_dict_with_subdirectories.items():\n",
    "    new = []\n",
    "    if value == []:\n",
    "        continue\n",
    "    else:\n",
    "        for enu,i in enumerate(value):\n",
    "            new.append(value[enu].replace('dir ',''))\n",
    "            # print(value[enu])\n",
    "            # print(enu)\n",
    "            #print(new)\n",
    "            new_dict_with_subdirectories[key] = new"
   ]
  },
  {
   "cell_type": "code",
   "execution_count": 154,
   "metadata": {},
   "outputs": [
    {
     "data": {
      "text/plain": [
       "{'/': 23352670, 'a': 94269, 'e': 584, 'd': 24933642}"
      ]
     },
     "execution_count": 154,
     "metadata": {},
     "output_type": "execute_result"
    }
   ],
   "source": [
    "new_dict_initial_file_sizes"
   ]
  },
  {
   "cell_type": "code",
   "execution_count": 155,
   "metadata": {},
   "outputs": [
    {
     "data": {
      "text/plain": [
       "{'/': ['a', 'd'], 'a': ['e'], 'e': [], 'd': []}"
      ]
     },
     "execution_count": 155,
     "metadata": {},
     "output_type": "execute_result"
    }
   ],
   "source": [
    "new_dict_with_subdirectories"
   ]
  },
  {
   "cell_type": "code",
   "execution_count": 156,
   "metadata": {},
   "outputs": [
    {
     "name": "stdout",
     "output_type": "stream",
     "text": [
      "<class 'str'>\n",
      "<class 'str'>\n",
      "<class 'str'>\n"
     ]
    }
   ],
   "source": [
    "### do not lose idea is good\n",
    "for key,value in new_dict_with_subdirectories.items():\n",
    "    for i in (value):\n",
    "        lenght = len(value)\n",
    "        iterate_list=0\n",
    "    while iterate_list < lenght:\n",
    "        print(type(value[iterate_list]))\n",
    "        iterate_list += 1"
   ]
  },
  {
   "cell_type": "code",
   "execution_count": 161,
   "metadata": {},
   "outputs": [],
   "source": [
    "for key,value in new_dict_with_subdirectories.items():\n",
    "    for i in (key):\n",
    "        lenght = len(value)\n",
    "        iterate_list=0\n",
    "    while iterate_list < lenght:\n",
    "        key_for_second_dict = new_dict_with_subdirectories[key][iterate_list]\n",
    "        new_dict_with_subdirectories[key][iterate_list] = new_dict_initial_file_sizes[key_for_second_dict]\n",
    "        iterate_list += 1"
   ]
  },
  {
   "cell_type": "code",
   "execution_count": 137,
   "metadata": {},
   "outputs": [
    {
     "data": {
      "text/plain": [
       "{'/': [94269, 24933642], 'a': [584], 'e': [], 'd': []}"
      ]
     },
     "execution_count": 137,
     "metadata": {},
     "output_type": "execute_result"
    }
   ],
   "source": [
    "new_dict_with_subdirectories"
   ]
  },
  {
   "cell_type": "code",
   "execution_count": 136,
   "metadata": {},
   "outputs": [
    {
     "name": "stdout",
     "output_type": "stream",
     "text": [
      "94269\n",
      "25027911\n",
      "584\n"
     ]
    }
   ],
   "source": [
    "for key,value in new_dict_with_subdirectories.items():\n",
    "    sum = 0\n",
    "    \n",
    "    for i in value:\n",
    "        sum += int(i)\n",
    "        print(sum)"
   ]
  },
  {
   "cell_type": "code",
   "execution_count": 131,
   "metadata": {},
   "outputs": [
    {
     "data": {
      "text/plain": [
       "{'/': 23352670, 'a': 94269, 'e': 584, 'd': 24933642}"
      ]
     },
     "execution_count": 131,
     "metadata": {},
     "output_type": "execute_result"
    }
   ],
   "source": [
    "new_dict_initial_file_sizes"
   ]
  }
 ],
 "metadata": {
  "kernelspec": {
   "display_name": "Python 3",
   "language": "python",
   "name": "python3"
  },
  "language_info": {
   "codemirror_mode": {
    "name": "ipython",
    "version": 3
   },
   "file_extension": ".py",
   "mimetype": "text/x-python",
   "name": "python",
   "nbconvert_exporter": "python",
   "pygments_lexer": "ipython3",
   "version": "3.10.7"
  },
  "orig_nbformat": 4,
  "vscode": {
   "interpreter": {
    "hash": "e51fdbc37c5adaa12a9ed97b50fdaf0ff46be7ee1a114cc405b6eaf0c36d1bf8"
   }
  }
 },
 "nbformat": 4,
 "nbformat_minor": 2
}

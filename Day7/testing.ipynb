{
 "cells": [
  {
   "cell_type": "code",
   "execution_count": 6,
   "metadata": {},
   "outputs": [],
   "source": [
    "import re"
   ]
  },
  {
   "cell_type": "code",
   "execution_count": 1,
   "metadata": {},
   "outputs": [],
   "source": [
    "with open ('input_test.txt') as f:\n",
    "    input = f.read()"
   ]
  },
  {
   "cell_type": "code",
   "execution_count": 4,
   "metadata": {},
   "outputs": [],
   "source": [
    "input = input.split('\\n')"
   ]
  },
  {
   "cell_type": "code",
   "execution_count": 5,
   "metadata": {},
   "outputs": [
    {
     "data": {
      "text/plain": [
       "['$ cd /',\n",
       " '$ ls',\n",
       " 'dir a',\n",
       " '14848514 b.txt',\n",
       " '8504156 c.dat',\n",
       " 'dir d',\n",
       " '$ cd a',\n",
       " '$ ls',\n",
       " 'dir e',\n",
       " '29116 f',\n",
       " '2557 g',\n",
       " '62596 h.lst',\n",
       " '$ cd e',\n",
       " '$ ls',\n",
       " '584 i',\n",
       " '$ cd ..',\n",
       " '$ cd ..',\n",
       " '$ cd d',\n",
       " '$ ls',\n",
       " '4060174 j',\n",
       " '8033020 d.log',\n",
       " '5626152 d.ext',\n",
       " '7214296 k']"
      ]
     },
     "execution_count": 5,
     "metadata": {},
     "output_type": "execute_result"
    }
   ],
   "source": [
    "input"
   ]
  },
  {
   "cell_type": "code",
   "execution_count": 55,
   "metadata": {},
   "outputs": [
    {
     "data": {
      "text/plain": [
       "{'root': [{'a': [{'e': ['584 i']}, '29116 f', '2557 g', '62596 h.hslt']},\n",
       "  '14848514 b.txt',\n",
       "  '8504156 c.dat',\n",
       "  {'d': ['4060174 j', '803302 d.log', '5626152 d.ext', '7214296 k']}]}"
      ]
     },
     "execution_count": 55,
     "metadata": {},
     "output_type": "execute_result"
    }
   ],
   "source": [
    "tree = {'root':[{'a':[{'e':['584 i']},\n",
    "                        '29116 f',\n",
    "                        '2557 g',\n",
    "                        '62596 h.hslt']},\n",
    "              '14848514 b.txt',\n",
    "                '8504156 c.dat',\n",
    "                {'d':['4060174 j','803302 d.log','5626152 d.ext','7214296 k']}]}\n",
    "tree"
   ]
  },
  {
   "cell_type": "code",
   "execution_count": 56,
   "metadata": {},
   "outputs": [
    {
     "name": "stdout",
     "output_type": "stream",
     "text": [
      "root\n",
      "a\n",
      "e\n",
      "584 i\n",
      "29116 f\n",
      "2557 g\n",
      "62596 h.hslt\n",
      "14848514 b.txt\n",
      "8504156 c.dat\n",
      "d\n",
      "4060174 j\n",
      "803302 d.log\n",
      "5626152 d.ext\n",
      "7214296 k\n"
     ]
    }
   ],
   "source": [
    "for k,v in tree.items():\n",
    "    print(k)\n",
    "    for i in v:\n",
    "        if isinstance(i,str):\n",
    "            print(i)\n",
    "        else:\n",
    "            for k,v in i.items():\n",
    "                print(k)\n",
    "                for i in v:\n",
    "                    if isinstance(i,str):\n",
    "                        print(i)\n",
    "                    else: \n",
    "                        for k,v in i.items():\n",
    "                            print(k)\n",
    "                            for i in v:\n",
    "                                print(i)"
   ]
  },
  {
   "cell_type": "code",
   "execution_count": 90,
   "metadata": {},
   "outputs": [],
   "source": [
    "def func(i,f):\n",
    "    for k,v in i.items():\n",
    "            print(str(f-1)+k)\n",
    "            for i in v:\n",
    "                if isinstance(i,str):\n",
    "                    regex_dir = '(\\d+) (\\w)'\n",
    "                    string = re.findall(regex_dir,i)[0]\n",
    "                    print(str(f) + str(string[1]))\n",
    "                else: \n",
    "                    func(i,f+1)\n",
    "                    "
   ]
  },
  {
   "cell_type": "code",
   "execution_count": 91,
   "metadata": {},
   "outputs": [
    {
     "name": "stdout",
     "output_type": "stream",
     "text": [
      "0root\n",
      "1a\n",
      "2e\n",
      "3i\n",
      "2f\n",
      "2g\n",
      "2h\n",
      "1b\n",
      "1c\n",
      "1d\n",
      "2j\n",
      "2d\n",
      "2d\n",
      "2k\n"
     ]
    }
   ],
   "source": [
    "func(tree,1)"
   ]
  },
  {
   "cell_type": "code",
   "execution_count": null,
   "metadata": {},
   "outputs": [],
   "source": []
  },
  {
   "cell_type": "code",
   "execution_count": 78,
   "metadata": {},
   "outputs": [
    {
     "name": "stdout",
     "output_type": "stream",
     "text": [
      "   abc\n"
     ]
    }
   ],
   "source": [
    "a = 3*' '+'abc'\n",
    "print((a))\n"
   ]
  },
  {
   "cell_type": "code",
   "execution_count": 11,
   "metadata": {},
   "outputs": [
    {
     "name": "stdout",
     "output_type": "stream",
     "text": [
      "a\n",
      "d\n",
      "e\n"
     ]
    }
   ],
   "source": [
    "for i in input:\n",
    "    if 'dir' in i:\n",
    "        regex_dir = 'dir (\\w)'\n",
    "        string = re.findall(regex_dir,i)[0]\n",
    "        print(string)\n",
    "        "
   ]
  },
  {
   "cell_type": "code",
   "execution_count": null,
   "metadata": {},
   "outputs": [],
   "source": [
    "for i in input:\n",
    "    if 'dir' in i:\n",
    "        regex_dir = 'dir (\\w)'\n",
    "        string = re.findall(regex_dir,i)[0]\n",
    "        print(string)\n",
    "        "
   ]
  }
 ],
 "metadata": {
  "kernelspec": {
   "display_name": "Python 3",
   "language": "python",
   "name": "python3"
  },
  "language_info": {
   "codemirror_mode": {
    "name": "ipython",
    "version": 3
   },
   "file_extension": ".py",
   "mimetype": "text/x-python",
   "name": "python",
   "nbconvert_exporter": "python",
   "pygments_lexer": "ipython3",
   "version": "3.9.1"
  },
  "orig_nbformat": 4,
  "vscode": {
   "interpreter": {
    "hash": "11938c6bc6919ae2720b4d5011047913343b08a43b18698fd82dedb0d4417594"
   }
  }
 },
 "nbformat": 4,
 "nbformat_minor": 2
}

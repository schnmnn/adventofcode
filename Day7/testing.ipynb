{
 "cells": [
  {
   "cell_type": "code",
   "execution_count": 1,
   "metadata": {},
   "outputs": [],
   "source": [
    "import re"
   ]
  },
  {
   "cell_type": "code",
   "execution_count": 93,
   "metadata": {},
   "outputs": [],
   "source": [
    "with open ('input_test.txt','r') as f:\n",
    "    input = f.read()"
   ]
  },
  {
   "cell_type": "code",
   "execution_count": 95,
   "metadata": {},
   "outputs": [],
   "source": [
    "input = input.split('\\n')"
   ]
  },
  {
   "cell_type": "code",
   "execution_count": 96,
   "metadata": {},
   "outputs": [
    {
     "data": {
      "text/plain": [
       "['$ cd /',\n",
       " '$ ls',\n",
       " 'dir a',\n",
       " '14848514 b.txt',\n",
       " '8504156 c.dat',\n",
       " 'dir d',\n",
       " '$ cd a',\n",
       " '$ ls',\n",
       " 'dir e',\n",
       " '29116 f',\n",
       " '2557 g',\n",
       " '62596 h.lst',\n",
       " '$ cd e',\n",
       " '$ ls',\n",
       " '584 i',\n",
       " '$ cd ..',\n",
       " '$ cd ..',\n",
       " '$ cd d',\n",
       " '$ ls',\n",
       " '4060174 j',\n",
       " '8033020 d.log',\n",
       " '5626152 d.ext',\n",
       " '7214296 k']"
      ]
     },
     "execution_count": 96,
     "metadata": {},
     "output_type": "execute_result"
    }
   ],
   "source": [
    "input"
   ]
  },
  {
   "cell_type": "code",
   "execution_count": 32,
   "metadata": {},
   "outputs": [
    {
     "data": {
      "text/plain": [
       "{'root': [{'a': [{'e': ['584 i']}, '29116 f', '2557 g', '62596 h.hslt']},\n",
       "  '14848514 b.txt',\n",
       "  '8504156 c.dat',\n",
       "  {'d': ['4060174 j', '803302 d.log', '5626152 d.ext', '7214296 k']}]}"
      ]
     },
     "execution_count": 32,
     "metadata": {},
     "output_type": "execute_result"
    }
   ],
   "source": [
    "tree = {'root':[{'a':[{'e':['584 i']},\n",
    "                        '29116 f',\n",
    "                        '2557 g',\n",
    "                        '62596 h.hslt']},\n",
    "              '14848514 b.txt',\n",
    "                '8504156 c.dat',\n",
    "                {'d':['4060174 j','803302 d.log','5626152 d.ext','7214296 k']}]}\n",
    "tree"
   ]
  },
  {
   "cell_type": "code",
   "execution_count": 56,
   "metadata": {},
   "outputs": [
    {
     "name": "stdout",
     "output_type": "stream",
     "text": [
      "root\n",
      "a\n",
      "e\n",
      "584 i\n",
      "29116 f\n",
      "2557 g\n",
      "62596 h.hslt\n",
      "14848514 b.txt\n",
      "8504156 c.dat\n",
      "d\n",
      "4060174 j\n",
      "803302 d.log\n",
      "5626152 d.ext\n",
      "7214296 k\n"
     ]
    }
   ],
   "source": [
    "for k,v in tree.items():\n",
    "    print(k)\n",
    "    for i in v:\n",
    "        if isinstance(i,str):\n",
    "            print(i)\n",
    "        else:\n",
    "            for k,v in i.items():\n",
    "                print(k)\n",
    "                for i in v:\n",
    "                    if isinstance(i,str):\n",
    "                        print(i)\n",
    "                    else: \n",
    "                        for k,v in i.items():\n",
    "                            print(k)\n",
    "                            for i in v:\n",
    "                                print(i)"
   ]
  },
  {
   "cell_type": "code",
   "execution_count": 90,
   "metadata": {},
   "outputs": [],
   "source": [
    "def func(i,f):\n",
    "    for k,v in i.items():\n",
    "            print(str(f-1)+k)\n",
    "            for i in v:\n",
    "                if isinstance(i,str):\n",
    "                    regex_dir = '(\\d+) (\\w)'\n",
    "                    string = re.findall(regex_dir,i)[0]\n",
    "                    print(str(f) + str(string[1]))\n",
    "                else: \n",
    "                    func(i,f+1)\n",
    "                    "
   ]
  },
  {
   "cell_type": "code",
   "execution_count": 91,
   "metadata": {},
   "outputs": [
    {
     "name": "stdout",
     "output_type": "stream",
     "text": [
      "0root\n",
      "1a\n",
      "2e\n",
      "3i\n",
      "2f\n",
      "2g\n",
      "2h\n",
      "1b\n",
      "1c\n",
      "1d\n",
      "2j\n",
      "2d\n",
      "2d\n",
      "2k\n"
     ]
    }
   ],
   "source": [
    "func(tree,1)"
   ]
  },
  {
   "cell_type": "code",
   "execution_count": 23,
   "metadata": {},
   "outputs": [],
   "source": [
    "def func(i):\n",
    "    for k,v in i.items():\n",
    "            print(k)\n",
    "            for i in v:\n",
    "                if isinstance(i,str):\n",
    "                    regex_dir = '(\\d+) (\\w)'\n",
    "                    string = re.findall(regex_dir,i)[0]\n",
    "                    print(str(string[1]))\n",
    "                else: \n",
    "                    func(i)\n",
    "                    "
   ]
  },
  {
   "cell_type": "code",
   "execution_count": 26,
   "metadata": {},
   "outputs": [
    {
     "name": "stdout",
     "output_type": "stream",
     "text": [
      "root\n",
      "a\n",
      "e\n",
      "i\n",
      "f\n",
      "g\n",
      "h\n",
      "b\n",
      "c\n",
      "d\n",
      "j\n",
      "d\n",
      "d\n",
      "k\n"
     ]
    }
   ],
   "source": [
    "func(tree)"
   ]
  },
  {
   "cell_type": "code",
   "execution_count": 34,
   "metadata": {},
   "outputs": [
    {
     "data": {
      "text/plain": [
       "{'root': [{'a': [{'e': ['584 i']}, '29116 f', '2557 g', '62596 h.hslt']},\n",
       "  '14848514 b.txt',\n",
       "  '8504156 c.dat',\n",
       "  {'d': ['4060174 j', '803302 d.log', '5626152 d.ext', '7214296 k']}]}"
      ]
     },
     "execution_count": 34,
     "metadata": {},
     "output_type": "execute_result"
    }
   ],
   "source": [
    "tree"
   ]
  },
  {
   "cell_type": "code",
   "execution_count": 63,
   "metadata": {},
   "outputs": [],
   "source": [
    "tree = {'/':[]}\n",
    "inner_dict={}\n",
    "\n",
    "for i in input:\n",
    "    if 'dir' in i:\n",
    "        regex_dir = 'dir (\\w)'\n",
    "        directory = re.findall(regex_dir,i)[0]\n",
    "        inner_dict[directory]= []\n",
    "        tree['/'] = [(inner_dict)]\n",
    "    # elif '$ cd' not in i and '$ ls' not in i:\n",
    "    #     print(i)\n",
    "        "
   ]
  },
  {
   "cell_type": "code",
   "execution_count": 64,
   "metadata": {},
   "outputs": [
    {
     "data": {
      "text/plain": [
       "{'/': [{'a': [], 'd': [], 'e': []}]}"
      ]
     },
     "execution_count": 64,
     "metadata": {},
     "output_type": "execute_result"
    }
   ],
   "source": [
    "tree"
   ]
  },
  {
   "cell_type": "code",
   "execution_count": 71,
   "metadata": {},
   "outputs": [
    {
     "name": "stdout",
     "output_type": "stream",
     "text": [
      "0 $ cd /\n",
      "1 $ ls\n",
      "2 dir a\n",
      "3 14848514 b.txt\n",
      "4 8504156 c.dat\n",
      "5 dir d\n",
      "6 $ cd a\n",
      "7 $ ls\n",
      "8 dir e\n",
      "9 29116 f\n",
      "10 2557 g\n",
      "11 62596 h.lst\n",
      "12 $ cd e\n",
      "13 $ ls\n",
      "14 584 i\n",
      "15 $ cd ..\n",
      "16 $ cd ..\n",
      "17 $ cd d\n",
      "18 $ ls\n",
      "19 4060174 j\n",
      "20 8033020 d.log\n",
      "21 5626152 d.ext\n",
      "22 7214296 k\n"
     ]
    }
   ],
   "source": [
    "for enum,i in enumerate(input):\n",
    "    print(enum, i)"
   ]
  },
  {
   "cell_type": "code",
   "execution_count": 85,
   "metadata": {},
   "outputs": [
    {
     "name": "stdout",
     "output_type": "stream",
     "text": [
      "a\n",
      "14848514\n",
      "8504156\n",
      "d\n",
      "e\n",
      "29116\n",
      "2557\n",
      "62596\n",
      "584\n",
      "4060174\n",
      "8033020\n",
      "5626152\n",
      "7214296\n"
     ]
    }
   ],
   "source": [
    "for i in input:\n",
    "    if 'dir' in i:\n",
    "        regex_dir = 'dir (\\w)'\n",
    "        string = re.findall(regex_dir,i)[0]\n",
    "        print(string)\n",
    "    elif '$ cd' not in i and '$ ls' not in i:\n",
    "        regex_file_size = '(\\d+)'\n",
    "        filesize = re.findall(regex_file_size,i)\n",
    "        print(filesize[0])\n",
    "        "
   ]
  },
  {
   "cell_type": "code",
   "execution_count": 119,
   "metadata": {},
   "outputs": [
    {
     "name": "stdout",
     "output_type": "stream",
     "text": [
      "dir a\n",
      "dir d\n",
      "$ cd a\n",
      "dir e\n",
      "$ cd e\n",
      "$ cd ..\n",
      "$ cd ..\n",
      "$ cd d\n"
     ]
    }
   ],
   "source": [
    "for i in input:\n",
    "    if i[0:5] == '$ cd ' and i[0:6] != '$ cd /':\n",
    "        print(i)\n",
    "        a=0\n",
    "    \n",
    "    elif i[0:4] == 'dir ':\n",
    "        print(i)\n",
    "    \n",
    "    elif i[0:4] == \"$ ls\":\n",
    "        #print(i)\n",
    "        a=1\n",
    "    elif i[0:4] != '$ ls ' and i[0:4] != '$ cd ' and i[0:4] != 'dir ':\n",
    "        #print(i)\n",
    "        a=2"
   ]
  }
 ],
 "metadata": {
  "kernelspec": {
   "display_name": "Python 3",
   "language": "python",
   "name": "python3"
  },
  "language_info": {
   "codemirror_mode": {
    "name": "ipython",
    "version": 3
   },
   "file_extension": ".py",
   "mimetype": "text/x-python",
   "name": "python",
   "nbconvert_exporter": "python",
   "pygments_lexer": "ipython3",
   "version": "3.10.7"
  },
  "orig_nbformat": 4,
  "vscode": {
   "interpreter": {
    "hash": "e51fdbc37c5adaa12a9ed97b50fdaf0ff46be7ee1a114cc405b6eaf0c36d1bf8"
   }
  }
 },
 "nbformat": 4,
 "nbformat_minor": 2
}
